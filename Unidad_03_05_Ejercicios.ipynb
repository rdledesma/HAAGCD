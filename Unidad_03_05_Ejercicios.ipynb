{
 "cells": [
  {
   "cell_type": "code",
   "execution_count": 17,
   "metadata": {},
   "outputs": [],
   "source": [
    "import numpy as np"
   ]
  },
  {
   "cell_type": "code",
   "execution_count": 18,
   "metadata": {},
   "outputs": [
    {
     "name": "stdout",
     "output_type": "stream",
     "text": [
      "31\n",
      "<class 'list'>\n"
     ]
    }
   ],
   "source": [
    "DATA = [\n",
    "    [6, \"Buenos Aires\", \"F\", \"0 a 17\", 91],\n",
    "    [6, \"Buenos Aires\", \"F\", \"18 a 29\", 928],\n",
    "    [6, \"Buenos Aires\", \"F\", \"30 a 39\", 816],\n",
    "    [6, \"Buenos Aires\", \"F\", \"40 y mas\", 1240],\n",
    "    [6, \"Buenos Aires\", \"M\", \"0 a 17\", 380],\n",
    "    [6, \"Buenos Aires\", \"M\", \"18 a 29\", 1955],\n",
    "    [6, \"Buenos Aires\", \"M\", \"30 a 39\", 573],\n",
    "    [6, \"Buenos Aires\", \"M\", \"40 y mas\", 224],\n",
    "    [6, \"Buenos Aires\", \"X\", \"0 a 17\", 50],\n",
    "    [6, \"Buenos Aires\", \"X\", \"18 a 29\", 423],\n",
    "    [6, \"Buenos Aires\", \"X\", \"30 a 39\", 174],\n",
    "    [6, \"Buenos Aires\", \"X\", \"40 y mas\", 95],\n",
    "    [10,\"Catamarca\",\"F\",\"0 a 17\",1],\n",
    "    [10,\"Catamarca\",\"F\",\"18 a 29\",39],\n",
    "    [10, \"Catamarca\", \"F\", \"30 a 39\", 41],\n",
    "    [10, \"Catamarca\", \"F\", \"40 y mas\", 34],\n",
    "    [10, \"Catamarca\", \"M\", \"0 a 17\", 7],\n",
    "    [10, \"Catamarca\", \"M\", \"18 a 29\", 33],\n",
    "    [10, \"Catamarca\", \"M\", \"30 a 39\", 8],\n",
    "    [10, \"Catamarca\", \"M\", \"40 y mas\", 2],\n",
    "    [10, \"Catamarca\", \"X\", \"18 a 29\", 4],\n",
    "    [10, \"Catamarca\", \"X\", \"30 a 39\", 7],\n",
    "    [22, \"Chaco\", \"F\", \"18 a 29\", 62],\n",
    "    [22, \"Chaco\", \"F\", \"30 a 39\", 53],\n",
    "    [22, \"Chaco\", \"F\", \"40 y mas\", 44],\n",
    "    [22, \"Chaco\", \"M\", \"0 a 17\", 5],\n",
    "    [22, \"Chaco\", \"M\", \"18 a 29\", 48],\n",
    "    [22, \"Chaco\", \"M\", \"30 a 39\", 20],\n",
    "    [22, \"Chaco\", \"M\", \"40 y mas\", 4],\n",
    "    [22, \"Chaco\", \"X\", \"18 a 29\", 7],\n",
    "    [22, \"Chaco\", \"X\", \"30 a 39\", 3],\n",
    "    # (Agrega más datos aquí si es necesario)\n",
    "]\n",
    "\n",
    "\n",
    "print(len(DATA))\n",
    "print(type(DATA))"
   ]
  },
  {
   "cell_type": "code",
   "execution_count": 19,
   "metadata": {},
   "outputs": [
    {
     "name": "stdout",
     "output_type": "stream",
     "text": [
      "Total de provincias: 3\n"
     ]
    }
   ],
   "source": [
    "\n",
    "\n",
    "# Ejercicio 1 - Cantidad de provincias distintas\n",
    "provincias = set([fila[1] for fila in DATA])\n",
    "print(f\"Total de provincias: {len(provincias)}\")"
   ]
  },
  {
   "cell_type": "code",
   "execution_count": 22,
   "metadata": {},
   "outputs": [
    {
     "name": "stdout",
     "output_type": "stream",
     "text": [
      "Total de personas por provincia:\n",
      "Buenos Aires: 6949\n",
      "Catamarca: 176\n",
      "Chaco: 246\n"
     ]
    }
   ],
   "source": [
    "# Ejercicio 2 - Total de personas por provincia\n",
    "provincia_totales = {}\n",
    "for fila in DATA:\n",
    "    provincia = fila[1]\n",
    "    cantidad = fila[4]\n",
    "    provincia_totales[provincia] = provincia_totales.get(provincia, 0) + cantidad\n",
    "print(\"Total de personas por provincia:\")\n",
    "for provincia, total in provincia_totales.items():\n",
    "    print(f\"{provincia}: {total}\")\n"
   ]
  },
  {
   "cell_type": "code",
   "execution_count": 21,
   "metadata": {},
   "outputs": [
    {
     "name": "stdout",
     "output_type": "stream",
     "text": [
      "\n",
      "Total de personas por género:\n",
      "F: 3349\n",
      "M: 3259\n",
      "X: 763\n"
     ]
    }
   ],
   "source": [
    "# Ejercicio 3 - Total de personas por género\n",
    "genero_totales = {}\n",
    "for fila in DATA:\n",
    "    genero = fila[2]\n",
    "    cantidad = fila[4]\n",
    "    genero_totales[genero] = genero_totales.get(genero, 0) + cantidad\n",
    "print(\"\\nTotal de personas por género:\") \n",
    "for genero, total in genero_totales.items():\n",
    "    print(f\"{genero}: {total}\")\n"
   ]
  },
  {
   "cell_type": "code",
   "execution_count": 23,
   "metadata": {},
   "outputs": [],
   "source": [
    "# Ejercicio 4 - Total de personas por grupo de edad\n",
    "edad_totales = {}\n",
    "for fila in DATA:\n",
    "    grupo_edad = fila[3]\n",
    "    cantidad = fila[4]\n",
    "    break"
   ]
  },
  {
   "cell_type": "markdown",
   "metadata": {},
   "source": []
  }
 ],
 "metadata": {
  "kernelspec": {
   "display_name": "geers-env",
   "language": "python",
   "name": "python3"
  },
  "language_info": {
   "codemirror_mode": {
    "name": "ipython",
    "version": 3
   },
   "file_extension": ".py",
   "mimetype": "text/x-python",
   "name": "python",
   "nbconvert_exporter": "python",
   "pygments_lexer": "ipython3",
   "version": "3.11.3"
  }
 },
 "nbformat": 4,
 "nbformat_minor": 2
}
