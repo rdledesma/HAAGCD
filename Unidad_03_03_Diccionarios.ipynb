{
 "cells": [
  {
   "cell_type": "markdown",
   "metadata": {},
   "source": [
    "# Unidad 3: Estructuras de Datos - Diccionarios\n",
    "\n",
    "### Características de los Diccionarios\n",
    "\n",
    "- Son colecciones no ordenadas antes de Python 3.7, pero mantienen el orden de inserción a partir de esta versión.\n",
    "\n",
    "- Almacenan datos como pares clave-valor.\n",
    "\n",
    "- Las claves deben ser inmutables (números, cadenas, tuplas), pero los valores pueden ser de cualquier tipo.\n",
    "\n",
    "- Son mutables, permitiendo agregar, modificar y eliminar elementos."
   ]
  },
  {
   "cell_type": "code",
   "execution_count": 1,
   "metadata": {},
   "outputs": [
    {
     "name": "stdout",
     "output_type": "stream",
     "text": [
      "{'nombre': 'Ana', 'edad': 21, 'promedio': 9.5}\n",
      "{}\n",
      "{'nombre': 'Carlos', 'edad': 23, 'promedio': 8.7}\n"
     ]
    }
   ],
   "source": [
    "# Crear diccionarios\n",
    "estudiante = {\"nombre\": \"Ana\", \"edad\": 21, \"promedio\": 9.5}\n",
    "print(estudiante)\n",
    "\n",
    "vacio = {}  # Diccionario vacío\n",
    "print(vacio)  # {}\n",
    "\n",
    "# Usando el constructor dict()\n",
    "estudiante_2 = dict(nombre=\"Carlos\", edad=23, promedio=8.7)\n",
    "print(estudiante_2)"
   ]
  },
  {
   "cell_type": "markdown",
   "metadata": {},
   "source": [
    "### Operaciones Básicas con Diccionarios\n",
    "Crear, Agregar, Modificar y Eliminar Elementos"
   ]
  },
  {
   "cell_type": "code",
   "execution_count": 2,
   "metadata": {},
   "outputs": [],
   "source": [
    "# Crear diccionario de estudiantes\n",
    "estudiantes = {\"1001\": \"Ana\", \"1002\": \"Carlos\", \"1003\": \"Beatriz\"}"
   ]
  },
  {
   "cell_type": "code",
   "execution_count": null,
   "metadata": {},
   "outputs": [
    {
     "name": "stdout",
     "output_type": "stream",
     "text": [
      "Ana\n"
     ]
    }
   ],
   "source": [
    "# Acceder a elementos\n",
    "print(estudiantes[\"1001\"])  # Ana"
   ]
  },
  {
   "cell_type": "code",
   "execution_count": 4,
   "metadata": {},
   "outputs": [
    {
     "name": "stdout",
     "output_type": "stream",
     "text": [
      "{'1001': 'Ana', '1002': 'Daniel', '1003': 'Beatriz'}\n"
     ]
    }
   ],
   "source": [
    "# Modificar elementos\n",
    "estudiantes[\"1002\"] = \"Daniel\"\n",
    "print(estudiantes)  # {'1001': 'Ana', '1002': 'Daniel', '1003': 'Beatriz'}"
   ]
  },
  {
   "cell_type": "code",
   "execution_count": 5,
   "metadata": {},
   "outputs": [
    {
     "name": "stdout",
     "output_type": "stream",
     "text": [
      "{'1001': 'Ana', '1002': 'Daniel', '1003': 'Beatriz', '1004': 'Elena'}\n"
     ]
    }
   ],
   "source": [
    "# Agregar elementos\n",
    "estudiantes[\"1004\"] = \"Elena\"\n",
    "print(estudiantes)  # {'1001': 'Ana', '1002': 'Daniel', '1003': 'Beatriz', '1004': 'Elena'}\n"
   ]
  },
  {
   "cell_type": "code",
   "execution_count": 7,
   "metadata": {},
   "outputs": [
    {
     "name": "stdout",
     "output_type": "stream",
     "text": [
      "{'1001': 'Ana', '1004': 'Elena'}\n"
     ]
    }
   ],
   "source": [
    "\n",
    "# Eliminar con del (sin retorno)\n",
    "del estudiantes[\"1002\"]\n",
    "print(estudiantes)  # {'1001': 'Ana', '1004': 'Elena'}\n"
   ]
  },
  {
   "cell_type": "code",
   "execution_count": 8,
   "metadata": {},
   "outputs": [
    {
     "name": "stdout",
     "output_type": "stream",
     "text": [
      "{}\n"
     ]
    }
   ],
   "source": [
    "# Vaciar el diccionario\n",
    "estudiantes.clear()\n",
    "print(estudiantes)  # {}"
   ]
  },
  {
   "cell_type": "code",
   "execution_count": 12,
   "metadata": {},
   "outputs": [
    {
     "name": "stdout",
     "output_type": "stream",
     "text": [
      "set()\n"
     ]
    }
   ],
   "source": [
    "# Vaciar el conjunto\n",
    "estudiantes.clear()\n",
    "print(estudiantes)  # set()"
   ]
  }
 ],
 "metadata": {
  "kernelspec": {
   "display_name": "geers-env",
   "language": "python",
   "name": "python3"
  },
  "language_info": {
   "codemirror_mode": {
    "name": "ipython",
    "version": 3
   },
   "file_extension": ".py",
   "mimetype": "text/x-python",
   "name": "python",
   "nbconvert_exporter": "python",
   "pygments_lexer": "ipython3",
   "version": "3.11.3"
  }
 },
 "nbformat": 4,
 "nbformat_minor": 2
}
