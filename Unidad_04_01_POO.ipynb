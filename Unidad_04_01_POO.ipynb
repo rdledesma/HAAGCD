{
 "cells": [
  {
   "cell_type": "markdown",
   "metadata": {},
   "source": [
    "# Unidad 4: Fundamentos de Programación Orientada a Objetos (POO)\n",
    "\n",
    "La Programación Orientada a Objetos (POO) es un paradigma de programación que se basa en la creación y manipulación de \"objetos\" que representan entidades del mundo real o conceptos abstractos. Este enfoque facilita el diseño, desarrollo y mantenimiento de aplicaciones al estructurar el código de manera más intuitiva y reutilizable.\n"
   ]
  },
  {
   "cell_type": "markdown",
   "metadata": {},
   "source": [
    "## 1. Concepto de Objetos y Clases\n",
    "\n",
    "Objetos\n",
    "\n",
    "Un objeto es una instancia de una clase. Es una entidad que tiene un estado (atributos) y un comportamiento (métodos). Los objetos son fundamentales en POO porque representan los elementos con los que trabaja nuestro programa.\n",
    "\n",
    "Clases\n",
    "\n",
    "Una clase es como un plano o molde a partir del cual se crean objetos. Define qué atributos y métodos tendrán los objetos creados a partir de ella."
   ]
  },
  {
   "cell_type": "code",
   "execution_count": 2,
   "metadata": {},
   "outputs": [
    {
     "name": "stdout",
     "output_type": "stream",
     "text": [
      "Hola, mi nombre es Darío y tengo 29 años.\n"
     ]
    }
   ],
   "source": [
    "# Ejemplo de una clase básica\n",
    "class Persona:\n",
    "    def __init__(self, nombre, edad):\n",
    "        self.nombre = nombre  # Atributo de instancia\n",
    "        self.edad = edad      # Atributo de instancia\n",
    "    \n",
    "    def saludar(self):  # Método de instancia\n",
    "        return f\"Hola, mi nombre es {self.nombre} y tengo {self.edad} años.\"\n",
    "\n",
    "# Crear un objeto (instancia) de la clase Persona\n",
    "persona1 = Persona(\"Darío\", 29)\n",
    "print(persona1.saludar())  # Salida: Hola, mi ......"
   ]
  },
  {
   "cell_type": "markdown",
   "metadata": {},
   "source": [
    "## 2. Atributos y Métodos\n",
    "\n",
    "Atributos\n",
    "\n",
    "Son las variables que almacenan el estado de un objeto. En Python, los atributos se definen en el método constructor __init__ o se pueden agregar dinámicamente.\n",
    "\n",
    "Métodos\n",
    "\n",
    "Son las funciones definidas dentro de una clase que describen el comportamiento de los objetos. Los métodos acceden y modifican los atributos del objeto."
   ]
  },
  {
   "cell_type": "code",
   "execution_count": 3,
   "metadata": {},
   "outputs": [
    {
     "name": "stdout",
     "output_type": "stream",
     "text": [
      "Este coche es un Citroen modelo C3.\n"
     ]
    }
   ],
   "source": [
    "class Auto:\n",
    "    def __init__(self, marca, modelo):\n",
    "        self.marca = marca\n",
    "        self.modelo = modelo\n",
    "\n",
    "    def detalles(self):\n",
    "        return f\"Este coche es un {self.marca} modelo {self.modelo}.\"\n",
    "\n",
    "coche1 = Auto(\"Citroen\", \"C3\")\n",
    "print(coche1.detalles())  # Salida: Este auto...."
   ]
  },
  {
   "cell_type": "markdown",
   "metadata": {},
   "source": [
    "## 3. Constructores (__init__)\n",
    "\n",
    "El método __init__ es el constructor de la clase. Es el primer método que se ejecuta al crear un objeto y se usa para inicializar sus atributos."
   ]
  },
  {
   "cell_type": "code",
   "execution_count": null,
   "metadata": {},
   "outputs": [],
   "source": [
    "class Animal:\n",
    "    def __init__(self, especie, sonido):\n",
    "        self.especie = especie\n",
    "        self.sonido = sonido\n",
    "    \n",
    "    def hacer_sonido(self):\n",
    "        return f\"El {self.especie} hace '{self.sonido}'\"\n",
    "\n",
    "gato = Animal(\"gato\", \"miau\")\n",
    "print(gato.hacer_sonido())"
   ]
  },
  {
   "cell_type": "markdown",
   "metadata": {},
   "source": [
    "## 4. Instancias y Métodos de Instancia\n",
    "\n",
    "Las instancias son los objetos creados a partir de una clase. Los métodos de instancia son aquellos que actúan sobre los atributos de esas instancias."
   ]
  },
  {
   "cell_type": "code",
   "execution_count": 6,
   "metadata": {},
   "outputs": [
    {
     "name": "stdout",
     "output_type": "stream",
     "text": [
      "Hola, soy Laura y estudio Ingeniería.\n"
     ]
    }
   ],
   "source": [
    "class Estudiante:\n",
    "    def __init__(self, nombre, carrera):\n",
    "        self.nombre = nombre\n",
    "        self.carrera = carrera\n",
    "    \n",
    "    def presentarse(self):\n",
    "        return f\"Hola, soy {self.nombre} y estudio {self.carrera}.\"\n",
    "\n",
    "estudiante1 = Estudiante(\"Laura\", \"Ingeniería\")\n",
    "print(estudiante1.presentarse())  # Salida: Hola, soy Laura y estudio Ingeniería."
   ]
  }
 ],
 "metadata": {
  "kernelspec": {
   "display_name": "geers-env",
   "language": "python",
   "name": "python3"
  },
  "language_info": {
   "codemirror_mode": {
    "name": "ipython",
    "version": 3
   },
   "file_extension": ".py",
   "mimetype": "text/x-python",
   "name": "python",
   "nbconvert_exporter": "python",
   "pygments_lexer": "ipython3",
   "version": "3.11.3"
  }
 },
 "nbformat": 4,
 "nbformat_minor": 2
}
