{
 "cells": [
  {
   "cell_type": "markdown",
   "metadata": {},
   "source": [
    "\n",
    "## Introducción a las Interfaces Gráficas (GUI)\n",
    "\n",
    "Las interfaces gráficas permiten interactuar con programas de manera visual. Python ofrece diversas bibliotecas para esto:\n",
    "\n",
    "- **Tkinter** (incluida con Python)\n",
    "- **PyQt / PySide** (potente y profesional)\n",
    "- **Kivy** (orientada a dispositivos táctiles y móviles)\n",
    "- **Dear PyGui** (enfocada en rendimiento gráfico)\n",
    "\n",
    "Este notebook se centra en **PyQt5**, una de las opciones más completas para aplicaciones de escritorio.\n"
   ]
  },
  {
   "cell_type": "markdown",
   "metadata": {},
   "source": [
    "\n",
    "## Instalación\n",
    "\n",
    "```bash\n",
    "pip install PyQt5\n",
    "```"
   ]
  },
  {
   "cell_type": "code",
   "execution_count": 1,
   "metadata": {},
   "outputs": [
    {
     "name": "stderr",
     "output_type": "stream",
     "text": [
      "Qt: Session management error: None of the authentication protocols specified are supported\n"
     ]
    },
    {
     "ename": "SystemExit",
     "evalue": "0",
     "output_type": "error",
     "traceback": [
      "An exception has occurred, use %tb to see the full traceback.\n",
      "\u001b[0;31mSystemExit\u001b[0m\u001b[0;31m:\u001b[0m 0\n"
     ]
    },
    {
     "name": "stderr",
     "output_type": "stream",
     "text": [
      "/home/dario/miniconda3/envs/geers/lib/python3.12/site-packages/IPython/core/interactiveshell.py:3585: UserWarning: To exit: use 'exit', 'quit', or Ctrl-D.\n",
      "  warn(\"To exit: use 'exit', 'quit', or Ctrl-D.\", stacklevel=1)\n"
     ]
    }
   ],
   "source": [
    "import sys\n",
    "from PyQt5.QtWidgets import QApplication, QLabel, QWidget\n",
    "\n",
    "app = QApplication(sys.argv)\n",
    "\n",
    "window = QWidget()\n",
    "window.setWindowTitle('Hola PyQt5')\n",
    "window.setGeometry(100, 100, 280, 80)\n",
    "label = QLabel('<h1>Hola Mundo!</h1>', parent=window)\n",
    "label.move(60, 15)\n",
    "\n",
    "window.show()\n",
    "sys.exit(app.exec_())"
   ]
  },
  {
   "cell_type": "markdown",
   "metadata": {},
   "source": [
    "## 2. Estructura Básica de una App PyQt5"
   ]
  },
  {
   "cell_type": "code",
   "execution_count": 1,
   "metadata": {},
   "outputs": [
    {
     "name": "stderr",
     "output_type": "stream",
     "text": [
      "Qt: Session management error: None of the authentication protocols specified are supported\n"
     ]
    },
    {
     "ename": "SystemExit",
     "evalue": "0",
     "output_type": "error",
     "traceback": [
      "An exception has occurred, use %tb to see the full traceback.\n",
      "\u001b[0;31mSystemExit\u001b[0m\u001b[0;31m:\u001b[0m 0\n"
     ]
    },
    {
     "name": "stderr",
     "output_type": "stream",
     "text": [
      "/home/dario/miniconda3/envs/geers/lib/python3.12/site-packages/IPython/core/interactiveshell.py:3585: UserWarning: To exit: use 'exit', 'quit', or Ctrl-D.\n",
      "  warn(\"To exit: use 'exit', 'quit', or Ctrl-D.\", stacklevel=1)\n"
     ]
    }
   ],
   "source": [
    "from PyQt5.QtWidgets import QApplication, QMainWindow\n",
    "import sys\n",
    "\n",
    "class MainWindow(QMainWindow):\n",
    "    def __init__(self):\n",
    "        super().__init__()\n",
    "        self.setWindowTitle(\"Mi Primera Ventana\")\n",
    "        self.setGeometry(100, 100, 400, 300)\n",
    "\n",
    "app = QApplication(sys.argv)\n",
    "ventana = MainWindow()\n",
    "ventana.show()\n",
    "sys.exit(app.exec_())"
   ]
  },
  {
   "cell_type": "code",
   "execution_count": 1,
   "metadata": {},
   "outputs": [
    {
     "name": "stderr",
     "output_type": "stream",
     "text": [
      "Qt: Session management error: None of the authentication protocols specified are supported\n"
     ]
    },
    {
     "ename": "SystemExit",
     "evalue": "0",
     "output_type": "error",
     "traceback": [
      "An exception has occurred, use %tb to see the full traceback.\n",
      "\u001b[0;31mSystemExit\u001b[0m\u001b[0;31m:\u001b[0m 0\n"
     ]
    },
    {
     "name": "stderr",
     "output_type": "stream",
     "text": [
      "/home/dario/miniconda3/envs/geers/lib/python3.12/site-packages/IPython/core/interactiveshell.py:3585: UserWarning: To exit: use 'exit', 'quit', or Ctrl-D.\n",
      "  warn(\"To exit: use 'exit', 'quit', or Ctrl-D.\", stacklevel=1)\n"
     ]
    }
   ],
   "source": [
    "from PyQt5.QtWidgets import QApplication, QMainWindow, QPushButton, QLabel\n",
    "import sys\n",
    "class VentanaConBoton(QMainWindow):\n",
    "    def __init__(self):\n",
    "        super().__init__()\n",
    "        self.setWindowTitle(\"Eventos en PyQt\")\n",
    "        self.setGeometry(100, 100, 400, 200)\n",
    "\n",
    "        self.label = QLabel(\"Haz clic en el botón\", self)\n",
    "        self.label.move(100, 50)\n",
    "\n",
    "        self.boton = QPushButton(\"Click aquí\", self)\n",
    "        self.boton.move(100, 100)\n",
    "        self.boton.clicked.connect(self.on_click)\n",
    "\n",
    "    def on_click(self):\n",
    "        self.label.setText(\"Botón presionado\")\n",
    "\n",
    "app = QApplication(sys.argv)\n",
    "ventana = VentanaConBoton()\n",
    "ventana.show()\n",
    "sys.exit(app.exec_())\n",
    "\n"
   ]
  },
  {
   "cell_type": "code",
   "execution_count": 8,
   "metadata": {},
   "outputs": [
    {
     "ename": "NameError",
     "evalue": "name 'QApplication' is not defined",
     "output_type": "error",
     "traceback": [
      "\u001b[0;31m---------------------------------------------------------------------------\u001b[0m",
      "\u001b[0;31mNameError\u001b[0m                                 Traceback (most recent call last)",
      "Cell \u001b[0;32mIn[8], line 16\u001b[0m\n\u001b[1;32m     12\u001b[0m         layout\u001b[38;5;241m.\u001b[39maddWidget(QPushButton(\u001b[38;5;124m\"\u001b[39m\u001b[38;5;124mBotón 3\u001b[39m\u001b[38;5;124m\"\u001b[39m))\n\u001b[1;32m     14\u001b[0m         \u001b[38;5;28mself\u001b[39m\u001b[38;5;241m.\u001b[39msetLayout(layout)\n\u001b[0;32m---> 16\u001b[0m app \u001b[38;5;241m=\u001b[39m \u001b[43mQApplication\u001b[49m(sys\u001b[38;5;241m.\u001b[39margv)\n\u001b[1;32m     17\u001b[0m ventana \u001b[38;5;241m=\u001b[39m VentanaLayout()\n\u001b[1;32m     18\u001b[0m ventana\u001b[38;5;241m.\u001b[39mshow()\n",
      "\u001b[0;31mNameError\u001b[0m: name 'QApplication' is not defined"
     ]
    }
   ],
   "source": [
    "import sys\n",
    "from PyQt5.QtWidgets import QWidget, QVBoxLayout, QPushButton\n",
    "\n",
    "class VentanaLayout(QWidget):\n",
    "    def __init__(self):\n",
    "        super().__init__()\n",
    "        self.setWindowTitle(\"Layouts en PyQt\")\n",
    "\n",
    "        layout = QVBoxLayout()\n",
    "        layout.addWidget(QPushButton(\"Botón 1\"))\n",
    "        layout.addWidget(QPushButton(\"Botón 2\"))\n",
    "        layout.addWidget(QPushButton(\"Botón 3\"))\n",
    "\n",
    "        self.setLayout(layout)\n",
    "\n",
    "app = QApplication(sys.argv)\n",
    "ventana = VentanaLayout()\n",
    "ventana.show()\n",
    "sys.exit(app.exec_())\n"
   ]
  },
  {
   "cell_type": "code",
   "execution_count": 3,
   "metadata": {},
   "outputs": [],
   "source": [
    "import tkinter as tk\n",
    "\n",
    "root = tk.Tk()\n",
    "root.title(\"Tkinter\")\n",
    "label = tk.Label(root, text=\"Hola desde Tkinter\")\n",
    "label.pack()\n",
    "root.mainloop()\n"
   ]
  },
  {
   "cell_type": "markdown",
   "metadata": {},
   "source": [
    "### Dear PyGui (instalar con `pip install dearpygui`)\n",
    "```python\n",
    "from dearpygui.core import *\n",
    "from dearpygui.simple import *\n",
    "\n",
    "with window(\"Ventana DPG\"):\n",
    "    add_text(\"Hola desde Dear PyGui\")\n",
    "    add_button(\"Presióname\", callback=lambda: log_debug(\"Botón presionado\"))\n"
   ]
  },
  {
   "cell_type": "markdown",
   "metadata": {},
   "source": [
    "### Kivy (instalar con `pip install kivy`)\n",
    "```python\n",
    "from kivy.app import App\n",
    "from kivy.uix.button import Button\n",
    "\n",
    "class MiApp(App):\n",
    "    def build(self):\n",
    "        return Button(text='Hola desde Kivy')\n"
   ]
  },
  {
   "cell_type": "markdown",
   "metadata": {},
   "source": [
    "## 7. Conclusiones\n",
    "\n",
    "- PyQt5 es excelente para aplicaciones de escritorio profesionales.\n",
    "- Kivy es mejor para interfaces táctiles.\n",
    "- Tkinter es sencillo para prototipos rápidos.\n",
    "- Dear PyGui destaca por su velocidad y facilidad para dashboards.\n"
   ]
  }
 ],
 "metadata": {
  "kernelspec": {
   "display_name": "geers",
   "language": "python",
   "name": "python3"
  },
  "language_info": {
   "codemirror_mode": {
    "name": "ipython",
    "version": 3
   },
   "file_extension": ".py",
   "mimetype": "text/x-python",
   "name": "python",
   "nbconvert_exporter": "python",
   "pygments_lexer": "ipython3",
   "version": "3.12.3"
  }
 },
 "nbformat": 4,
 "nbformat_minor": 2
}
