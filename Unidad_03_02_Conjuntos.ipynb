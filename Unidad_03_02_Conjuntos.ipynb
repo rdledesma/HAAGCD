{
 "cells": [
  {
   "cell_type": "markdown",
   "metadata": {},
   "source": [
    "# Unidad 3: Estructuras de Datos - Conjuntos\n",
    "\n",
    "### Características de los Conjuntos (set) en Python\n",
    "\n",
    "- Son colecciones no ordenadas, mutables y sin elementos duplicados.\n",
    "\n",
    "- Muy eficientes para operaciones de pertenencia y eliminación de duplicados.\n",
    "\n",
    "- Los elementos deben ser inmutables (números, cadenas, tuplas), pero el conjunto en sí es mutable.\n",
    "\n",
    "- Definidos usando llaves {} o el constructor set() (sin usar [])."
   ]
  },
  {
   "cell_type": "code",
   "execution_count": 1,
   "metadata": {},
   "outputs": [
    {
     "name": "stdout",
     "output_type": "stream",
     "text": [
      "{'banana', 'cereza', 'manzana'}\n",
      "set()\n",
      "{1, 2, 3, 4, 5}\n"
     ]
    }
   ],
   "source": [
    "# Crear conjuntos\n",
    "frutas = {\"manzana\", \"banana\", \"cereza\"}\n",
    "print(frutas)  # El orden puede variar\n",
    "\n",
    "vacio = set()  # Conjunto vacío (no usar {} para vacío)\n",
    "print(vacio)  # set()\n",
    "\n",
    "repetidos = {1, 2, 2, 3, 4, 4, 5}\n",
    "print(repetidos)  # {1, 2, 3, 4, 5}"
   ]
  },
  {
   "cell_type": "markdown",
   "metadata": {},
   "source": [
    "### Operaciones Básicas con Conjuntos\n",
    "Crear, Agregar y Eliminar Elementos"
   ]
  },
  {
   "cell_type": "code",
   "execution_count": 14,
   "metadata": {},
   "outputs": [
    {
     "name": "stdout",
     "output_type": "stream",
     "text": [
      "{'Carlos', 'Beatriz', 'Ana'}\n"
     ]
    }
   ],
   "source": [
    "# Crear conjunto de estudiantes\n",
    "estudiantes = {\"Ana\", \"Carlos\", \"Beatriz\"}\n",
    "print(estudiantes)"
   ]
  },
  {
   "cell_type": "code",
   "execution_count": 8,
   "metadata": {},
   "outputs": [
    {
     "name": "stdout",
     "output_type": "stream",
     "text": [
      "{'Carlos', 'Beatriz', 'Ana', 'Daniel'}\n"
     ]
    }
   ],
   "source": [
    "# Agregar elementos\n",
    "estudiantes.add(\"Daniel\")\n",
    "print(estudiantes)  # {'Ana', 'Carlos', 'Beatriz', 'Daniel'}\n"
   ]
  },
  {
   "cell_type": "code",
   "execution_count": 9,
   "metadata": {},
   "outputs": [
    {
     "name": "stdout",
     "output_type": "stream",
     "text": [
      "{'Beatriz', 'Ana', 'Daniel'}\n"
     ]
    }
   ],
   "source": [
    "# Eliminar elementos\n",
    "estudiantes.remove(\"Carlos\")  # Lanza error si no existe\n",
    "print(estudiantes)  # {'Ana', 'Beatriz', 'Daniel'}"
   ]
  },
  {
   "cell_type": "code",
   "execution_count": 10,
   "metadata": {},
   "outputs": [
    {
     "name": "stdout",
     "output_type": "stream",
     "text": [
      "{'Beatriz', 'Ana', 'Daniel'}\n"
     ]
    }
   ],
   "source": [
    "estudiantes.discard(\"Mario\")  # No lanza error si no existe\n",
    "print(estudiantes)  # {'Ana', 'Beatriz', 'Daniel'}"
   ]
  },
  {
   "cell_type": "code",
   "execution_count": 11,
   "metadata": {},
   "outputs": [
    {
     "name": "stdout",
     "output_type": "stream",
     "text": [
      "Beatriz\n",
      "{'Ana', 'Daniel'}\n"
     ]
    }
   ],
   "source": [
    "# Eliminar y obtener un elemento arbitrario\n",
    "alumno_eliminado = estudiantes.pop()\n",
    "print(alumno_eliminado)\n",
    "print(estudiantes)  # Resto del conjunto"
   ]
  },
  {
   "cell_type": "code",
   "execution_count": 12,
   "metadata": {},
   "outputs": [
    {
     "name": "stdout",
     "output_type": "stream",
     "text": [
      "set()\n"
     ]
    }
   ],
   "source": [
    "# Vaciar el conjunto\n",
    "estudiantes.clear()\n",
    "print(estudiantes)  # set()"
   ]
  },
  {
   "cell_type": "markdown",
   "metadata": {},
   "source": [
    "### Operaciones entre Conjuntos"
   ]
  },
  {
   "cell_type": "code",
   "execution_count": 13,
   "metadata": {},
   "outputs": [
    {
     "name": "stdout",
     "output_type": "stream",
     "text": [
      "{'Carlos', 'Beatriz', 'Elena', 'Ana', 'Daniel'}\n",
      "{'Beatriz'}\n",
      "{'Carlos', 'Ana'}\n",
      "{'Carlos', 'Elena', 'Ana', 'Daniel'}\n"
     ]
    }
   ],
   "source": [
    "# Operaciones entre conjuntos\n",
    "grupo_A = {\"Ana\", \"Carlos\", \"Beatriz\"}\n",
    "grupo_B = {\"Beatriz\", \"Daniel\", \"Elena\"}\n",
    "\n",
    "# Unión (elementos en ambos conjuntos)\n",
    "todos = grupo_A.union(grupo_B)\n",
    "print(todos)  # {'Ana', 'Carlos', 'Beatriz', 'Daniel', 'Elena'}\n",
    "\n",
    "# Intersección (elementos comunes)\n",
    "comunes = grupo_A.intersection(grupo_B)\n",
    "print(comunes)  # {'Beatriz'}\n",
    "\n",
    "# Diferencia (elementos solo en grupo_A)\n",
    "solo_A = grupo_A.difference(grupo_B)\n",
    "print(solo_A)  # {'Ana', 'Carlos'}\n",
    "\n",
    "# Diferencia simétrica (elementos no comunes)\n",
    "diferentes = grupo_A.symmetric_difference(grupo_B)\n",
    "print(diferentes)  # {'Ana', 'Carlos', 'Daniel', 'Elena'}"
   ]
  },
  {
   "cell_type": "markdown",
   "metadata": {},
   "source": [
    "Crear un conjunto con 5 nombres\n",
    "\n",
    "- Agregar un nuevo nombre.\n",
    "\n",
    "- Eliminar un nombre específico.\n",
    "\n",
    "- Verificar si un nombre está en el conjunto.\n"
   ]
  },
  {
   "cell_type": "markdown",
   "metadata": {},
   "source": [
    "Crear dos conjuntos de estudiantes de diferentes cursos y:\n",
    "\n",
    "- Obtener todos los estudiantes sin duplicados (unión).\n",
    "\n",
    "- Obtener solo los estudiantes que están en ambos cursos (intersección).\n",
    "\n",
    "- Obtener los estudiantes que solo están en uno de los cursos (diferencia)."
   ]
  },
  {
   "cell_type": "markdown",
   "metadata": {},
   "source": [
    "Crear un conjunto de letras de una palabra y usar operaciones para identificar letras comunes y diferentes entre dos palabras.\n"
   ]
  },
  {
   "cell_type": "markdown",
   "metadata": {},
   "source": [
    "Crear un conjunto con los números del 1 al 10 y:\n",
    "\n",
    "- Eliminar los números pares usando discard().\n",
    "\n",
    "- Agregar nuevos números que no estén ya en el conjunto."
   ]
  }
 ],
 "metadata": {
  "kernelspec": {
   "display_name": "geers-env",
   "language": "python",
   "name": "python3"
  },
  "language_info": {
   "codemirror_mode": {
    "name": "ipython",
    "version": 3
   },
   "file_extension": ".py",
   "mimetype": "text/x-python",
   "name": "python",
   "nbconvert_exporter": "python",
   "pygments_lexer": "ipython3",
   "version": "3.11.3"
  }
 },
 "nbformat": 4,
 "nbformat_minor": 2
}
