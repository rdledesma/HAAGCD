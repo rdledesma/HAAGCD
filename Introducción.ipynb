{
 "cells": [
  {
   "cell_type": "code",
   "execution_count": 2,
   "metadata": {},
   "outputs": [
    {
     "data": {
      "text/markdown": [
       "# Introducción\n",
       "\n",
       "Lorem ipsum dolor sit amet, consectetur adipiscing elit. Donec tincidunt, nisl eget facilisis dapibus, \n",
       "sapien orci dictum dolor, vel molestie risus velit a felis. Curabitur tincidunt tincidunt urna, vel tempor risus porta eu. \n",
       "Suspendisse potenti. Phasellus vulputate, risus id tincidunt faucibus, nunc ligula facilisis metus, ac efficitur turpis \n",
       "turpis a elit. Vivamus dignissim justo ut velit fermentum, id tempus turpis lacinia. Fusce ut nibh vel nunc pulvinar \n",
       "pharetra. Pellentesque habitant morbi tristique senectus et netus et malesuada fames ac turpis egestas. Vestibulum ante \n",
       "ipsum primis in faucibus orci luctus et ultrices posuere cubilia curae; Integer eu libero sit amet magna dictum malesuada. \n",
       "Vestibulum aliquet lorem id libero tincidunt, vel vestibulum libero fermentum. In hac habitasse platea dictumst.\n",
       "\n",
       "Nam maximus, arcu et gravida vulputate, nulla quam fringilla est, eget vestibulum ipsum tortor ut ex. Duis a sodales enim. \n",
       "Morbi nec metus ac eros consectetur tempor. Nulla et eros ut augue efficitur placerat ac eget odio. Etiam porttitor orci \n",
       "vel lectus efficitur, id sollicitudin ex venenatis. Fusce at mi neque. Pellentesque vitae lacus non sapien posuere sodales \n",
       "vel id odio. Vestibulum viverra justo vel nisi aliquet venenatis. Pellentesque a gravida justo, nec ultrices nisi. \n",
       "Curabitur non purus at turpis maximus gravida et at libero. Integer scelerisque ex nunc, ut vulputate augue vehicula eget.\n",
       "\n",
       "Suspendisse at congue ligula, ac viverra risus. Fusce molestie, dolor at aliquet laoreet, orci sapien interdum sapien, \n",
       "eget euismod dolor metus eu metus. Duis ac est ac ex tempus feugiat. In hac habitasse platea dictumst. Duis maximus nibh \n",
       "a felis auctor fermentum. Duis nec scelerisque mi. Curabitur rhoncus mi justo, ac malesuada magna fermentum eu. \n",
       "Vestibulum non lectus at velit hendrerit sagittis vel id leo. Donec volutpat elit ex, id hendrerit elit interdum nec. \n",
       "Praesent euismod turpis risus, eget auctor mauris fermentum non. Ut ultricies dictum eros, ut consectetur dolor vehicula \n",
       "id. Donec id nisi ex. Donec non nibh sed purus dictum feugiat. Duis eu nisi at nisi iaculis feugiat eget id turpis. \n",
       "Mauris laoreet posuere augue, et pharetra metus venenatis id. Nulla facilisi.\n",
       "\n",
       "Vestibulum efficitur arcu felis, vel ultrices ex mollis vel. Nulla auctor libero in sodales convallis. Aenean ut venenatis \n",
       "leo, vel tincidunt tortor. Mauris sagittis lorem non vestibulum vulputate. Pellentesque suscipit justo velit, sed iaculis \n",
       "odio porttitor id. Integer id nibh fringilla, tincidunt nisi nec, feugiat magna. Nam at nibh odio. Ut egestas laoreet \n",
       "quam, id venenatis sapien venenatis nec. Donec eget accumsan est, id scelerisque nunc. Aenean euismod feugiat diam, in \n",
       "sagittis purus vulputate id. Donec vel turpis velit. Nulla dapibus, sem ac gravida volutpat, velit velit iaculis tortor, \n",
       "nec cursus purus purus ut felis.\n",
       "\n",
       "\n",
       "## Ir a las unidades:\n",
       "- [Unidad 1](Unidad_01.ipynb)\n",
       "- [Unidad 2](Unidad_02.ipynb)\n",
       "- [Unidad 3](Unidad_03.ipynb)\n"
      ],
      "text/plain": [
       "<IPython.core.display.Markdown object>"
      ]
     },
     "execution_count": 2,
     "metadata": {},
     "output_type": "execute_result"
    }
   ],
   "source": [
    "from IPython.display import Markdown\n",
    "\n",
    "# Título\n",
    "titulo = \"# Introducción\\n\"\n",
    "\n",
    "# Generar un Lorem Ipsum de 500 palabras\n",
    "lorem_ipsum = \"\"\"Lorem ipsum dolor sit amet, consectetur adipiscing elit. Donec tincidunt, nisl eget facilisis dapibus, \n",
    "sapien orci dictum dolor, vel molestie risus velit a felis. Curabitur tincidunt tincidunt urna, vel tempor risus porta eu. \n",
    "Suspendisse potenti. Phasellus vulputate, risus id tincidunt faucibus, nunc ligula facilisis metus, ac efficitur turpis \n",
    "turpis a elit. Vivamus dignissim justo ut velit fermentum, id tempus turpis lacinia. Fusce ut nibh vel nunc pulvinar \n",
    "pharetra. Pellentesque habitant morbi tristique senectus et netus et malesuada fames ac turpis egestas. Vestibulum ante \n",
    "ipsum primis in faucibus orci luctus et ultrices posuere cubilia curae; Integer eu libero sit amet magna dictum malesuada. \n",
    "Vestibulum aliquet lorem id libero tincidunt, vel vestibulum libero fermentum. In hac habitasse platea dictumst.\n",
    "\n",
    "Nam maximus, arcu et gravida vulputate, nulla quam fringilla est, eget vestibulum ipsum tortor ut ex. Duis a sodales enim. \n",
    "Morbi nec metus ac eros consectetur tempor. Nulla et eros ut augue efficitur placerat ac eget odio. Etiam porttitor orci \n",
    "vel lectus efficitur, id sollicitudin ex venenatis. Fusce at mi neque. Pellentesque vitae lacus non sapien posuere sodales \n",
    "vel id odio. Vestibulum viverra justo vel nisi aliquet venenatis. Pellentesque a gravida justo, nec ultrices nisi. \n",
    "Curabitur non purus at turpis maximus gravida et at libero. Integer scelerisque ex nunc, ut vulputate augue vehicula eget.\n",
    "\n",
    "Suspendisse at congue ligula, ac viverra risus. Fusce molestie, dolor at aliquet laoreet, orci sapien interdum sapien, \n",
    "eget euismod dolor metus eu metus. Duis ac est ac ex tempus feugiat. In hac habitasse platea dictumst. Duis maximus nibh \n",
    "a felis auctor fermentum. Duis nec scelerisque mi. Curabitur rhoncus mi justo, ac malesuada magna fermentum eu. \n",
    "Vestibulum non lectus at velit hendrerit sagittis vel id leo. Donec volutpat elit ex, id hendrerit elit interdum nec. \n",
    "Praesent euismod turpis risus, eget auctor mauris fermentum non. Ut ultricies dictum eros, ut consectetur dolor vehicula \n",
    "id. Donec id nisi ex. Donec non nibh sed purus dictum feugiat. Duis eu nisi at nisi iaculis feugiat eget id turpis. \n",
    "Mauris laoreet posuere augue, et pharetra metus venenatis id. Nulla facilisi.\n",
    "\n",
    "Vestibulum efficitur arcu felis, vel ultrices ex mollis vel. Nulla auctor libero in sodales convallis. Aenean ut venenatis \n",
    "leo, vel tincidunt tortor. Mauris sagittis lorem non vestibulum vulputate. Pellentesque suscipit justo velit, sed iaculis \n",
    "odio porttitor id. Integer id nibh fringilla, tincidunt nisi nec, feugiat magna. Nam at nibh odio. Ut egestas laoreet \n",
    "quam, id venenatis sapien venenatis nec. Donec eget accumsan est, id scelerisque nunc. Aenean euismod feugiat diam, in \n",
    "sagittis purus vulputate id. Donec vel turpis velit. Nulla dapibus, sem ac gravida volutpat, velit velit iaculis tortor, \n",
    "nec cursus purus purus ut felis.\"\"\"\n",
    "\n",
    "# Enlaces a otras unidades\n",
    "enlaces = \"\"\"\n",
    "## Ir a las unidades:\n",
    "- [Unidad 1](Unidad_01.ipynb)\n",
    "- [Unidad 2](Unidad_02.ipynb)\n",
    "- [Unidad 3](Unidad_03.ipynb)\n",
    "\"\"\"\n",
    "\n",
    "# Mostrar en el notebook\n",
    "Markdown(titulo + \"\\n\" + lorem_ipsum + \"\\n\\n\" + enlaces)\n"
   ]
  }
 ],
 "metadata": {
  "kernelspec": {
   "display_name": "geers",
   "language": "python",
   "name": "python3"
  },
  "language_info": {
   "codemirror_mode": {
    "name": "ipython",
    "version": 3
   },
   "file_extension": ".py",
   "mimetype": "text/x-python",
   "name": "python",
   "nbconvert_exporter": "python",
   "pygments_lexer": "ipython3",
   "version": "3.12.3"
  }
 },
 "nbformat": 4,
 "nbformat_minor": 2
}
