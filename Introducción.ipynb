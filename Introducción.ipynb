{
 "cells": [
  {
   "cell_type": "markdown",
   "metadata": {},
   "source": [
    "# Una herramienta para la administración y análisis de grandes cantidades de datos #"
   ]
  },
  {
   "cell_type": "markdown",
   "metadata": {},
   "source": [
    "Bienvenido al curso. "
   ]
  },
  {
   "cell_type": "markdown",
   "metadata": {},
   "source": [
    "El material explicado en los encuentros presenciales se distribuye a partir de estos estas notebooks. Estos tipos de archivos permiten unificar código en Python, es decir código que usamos para programar (py), con comentarios en forma de texto con estilos (markdown). Puede accederse al material específico de cada encuentro a través de los enlaces colocados al final de esta página "
   ]
  },
  {
   "cell_type": "code",
   "execution_count": 16,
   "metadata": {},
   "outputs": [
    {
     "data": {
      "text/markdown": [
       "\n",
       "## Ir a las unidades:\n",
       "- [Unidad 1](Unidad_01.ipynb)\n",
       "- [Unidad 2](Unidad_02.ipynb)\n",
       "- [Unidad 3](Unidad_03.ipynb)\n"
      ],
      "text/plain": [
       "<IPython.core.display.Markdown object>"
      ]
     },
     "execution_count": 16,
     "metadata": {},
     "output_type": "execute_result"
    }
   ],
   "source": [
    "from IPython.display import Markdown\n",
    "\n",
    "\n",
    "# Enlaces a otras unidades\n",
    "enlaces = \"\"\"\n",
    "## Ir a las unidades:\n",
    "- [Unidad 1](Unidad_01.ipynb)\n",
    "- [Unidad 2](Unidad_02.ipynb)\n",
    "- [Unidad 3](Unidad_03.ipynb)\n",
    "\"\"\"\n",
    "\n",
    "# Mostrar en el notebook\n",
    "Markdown(enlaces)\n"
   ]
  }
 ],
 "metadata": {
  "kernelspec": {
   "display_name": "geers-env",
   "language": "python",
   "name": "python3"
  },
  "language_info": {
   "codemirror_mode": {
    "name": "ipython",
    "version": 3
   },
   "file_extension": ".py",
   "mimetype": "text/x-python",
   "name": "python",
   "nbconvert_exporter": "python",
   "pygments_lexer": "ipython3",
   "version": "3.11.3"
  }
 },
 "nbformat": 4,
 "nbformat_minor": 2
}
