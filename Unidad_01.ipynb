{
 "cells": [
  {
   "cell_type": "markdown",
   "metadata": {},
   "source": [
    "# Unidad 1 - El entorno y las variables\n",
    "Bienvenido a la primera unidad. \n",
    "\n",
    "En esta oportunidad vamos a explorar las distintas alternativas para escribir código Python.\n",
    "\n",
    "\n",
    "# **Entornos para programar en Python**\n",
    "\n",
    "Un **entorno de programación en Python** es el espacio donde se escribe, ejecuta y depura código en este lenguaje. Estos entornos pueden variar en complejidad y funcionalidad según las necesidades del programador.  \n",
    "\n",
    "## **Tipos de entornos más utilizados**  \n",
    "\n",
    "### 1. Consola o intérprete de Python  \n",
    "- **Descripción:** Se accede mediante el comando `python` en la terminal o símbolo del sistema.  \n",
    "- **Fortalezas:**  \n",
    "  - Fácil de usar para pruebas rápidas.  \n",
    "  - No requiere instalación adicional.  \n",
    "- **Debilidades:**  \n",
    "  - No permite manejar proyectos grandes de manera eficiente.  \n",
    "  - No ofrece herramientas avanzadas como depuración o autocompletado.  \n",
    "\n",
    "### 2. IDEs (Entornos de Desarrollo Integrado)  \n",
    "- **Ejemplos:** PyCharm, Visual Studio Code, Spyder.  \n",
    "- **Fortalezas:**  \n",
    "  - Incluyen herramientas como autocompletado, depuración y administración de paquetes.  \n",
    "  - Son ideales para desarrollo a gran escala.  \n",
    "- **Debilidades:**  \n",
    "  - Pueden ser pesados y consumir más recursos del sistema.  \n",
    "  - Requieren configuración inicial.  \n",
    "\n",
    "### 3. Jupyter Notebooks  \n",
    "- **Descripción:** Un entorno interactivo basado en celdas, muy usado en ciencia de datos.  \n",
    "- **Fortalezas:**  \n",
    "  - Permite ejecutar código en fragmentos, facilitando pruebas y visualización de datos.  \n",
    "  - Compatible con gráficos y visualizaciones en tiempo real.  \n",
    "- **Debilidades:**  \n",
    "  - No es óptimo para proyectos grandes.  \n",
    "  - La gestión del entorno puede ser compleja.  \n",
    "\n",
    "## **Entornos Virtuales en Python**  \n",
    "Un **entorno virtual** es una instancia aislada de Python que permite instalar paquetes sin afectar el sistema global. Se crean con herramientas como `venv` o `virtualenv`.  \n",
    "\n",
    "- **Beneficios:**  \n",
    "  - Evita conflictos entre versiones de paquetes.  \n",
    "  - Facilita la replicación del entorno en otros sistemas.  \n",
    "  - Es esencial para proyectos con dependencias específicas.  \n",
    "\n",
    "En resumen, la elección del entorno depende del tipo de proyecto y de las necesidades del programador.\n"
   ]
  },
  {
   "cell_type": "markdown",
   "metadata": {},
   "source": [
    "En este curso las clases van a ser presentadas mediante Jupyter Notebooks, el lector podrá replicar el contenido mediante el uso de Notebooks de Google colab si no desea realizar alguna instalación, sin embargo consideramos que será mas provechoso instalar utilizar alguna otra alternativa que considere una instalación local."
   ]
  },
  {
   "cell_type": "markdown",
   "metadata": {},
   "source": [
    "[Tutorial de instalación en Windows](https://www.youtube.com/watch?v=KVdWWsklW6o)\n",
    "\n",
    "[Tutorial de instalación en Windows Usando Enternos Virtuales](https://www.youtube.com/watch?v=Fo-jkW8rPs8)"
   ]
  },
  {
   "cell_type": "markdown",
   "metadata": {},
   "source": [
    "En esta primer case vamos introducir algunos conceptos básicos de Python. Comenzando desde cero vas a aprender a editar, ejecutar y debuguear pequeños programas. También presentamos algunos tipos de datos de Python: número enteros, números de punto flotante, cadenas y listas."
   ]
  },
  {
   "cell_type": "code",
   "execution_count": 1,
   "metadata": {},
   "outputs": [
    {
     "name": "stdout",
     "output_type": "stream",
     "text": [
      "Hola Mundo\n"
     ]
    }
   ],
   "source": [
    "print(\"Hola Mundo\")"
   ]
  },
  {
   "cell_type": "markdown",
   "metadata": {},
   "source": [
    "El código anterior imprime el mensaje \"Hola Mundo\"."
   ]
  },
  {
   "cell_type": "markdown",
   "metadata": {},
   "source": [
    "Usted podría preguntarse:\n",
    "- Qué es 'print'?\n",
    "- Sólo se puede imprimir el mensaje 'Hola Mundo'?\n",
    "- Porqué deben utilizarse '()'?\n",
    "- Dónde se encuentra especificado que al escribir la palabra 'print' deba mostrarse como \n",
    "resultado un mensaje?\n"
   ]
  },
  {
   "cell_type": "markdown",
   "metadata": {},
   "source": [
    "Es objetivo de este curso que usted adquiera el conocimiento para realizarse este tipo de preguntas y donde buscar lugares para responderlas."
   ]
  },
  {
   "cell_type": "markdown",
   "metadata": {},
   "source": [
    "Python como calculadora\n",
    "- ¿Cuántas horas son 105 minutos?"
   ]
  },
  {
   "cell_type": "code",
   "execution_count": 2,
   "metadata": {},
   "outputs": [
    {
     "data": {
      "text/plain": [
       "1.75"
      ]
     },
     "execution_count": 2,
     "metadata": {},
     "output_type": "execute_result"
    }
   ],
   "source": [
    "105/60"
   ]
  },
  {
   "cell_type": "markdown",
   "metadata": {},
   "source": [
    "- ¿Cuántos kilometros son 20 millas? (un kilómetro corresponde a 0.6214 millas)"
   ]
  },
  {
   "cell_type": "code",
   "execution_count": 3,
   "metadata": {},
   "outputs": [
    {
     "data": {
      "text/plain": [
       "32.1853878339234"
      ]
     },
     "execution_count": 3,
     "metadata": {},
     "output_type": "execute_result"
    }
   ],
   "source": [
    "20 / 0.6214"
   ]
  },
  {
   "cell_type": "markdown",
   "metadata": {},
   "source": [
    "- Si alguien corre una carrera de 20 millas en 105 minutos, ¿cuál fue su velocidad promedio en km/h?\n",
    " \n",
    "Puede utilizar  el guión bajo (underscore, _) para referirte al resultado del último cálculo."
   ]
  },
  {
   "cell_type": "code",
   "execution_count": 4,
   "metadata": {},
   "outputs": [
    {
     "data": {
      "text/plain": [
       "18.391650190813372"
      ]
     },
     "execution_count": 4,
     "metadata": {},
     "output_type": "execute_result"
    }
   ],
   "source": [
    "_/1.75\n",
    "18.391650190813372"
   ]
  }
 ],
 "metadata": {
  "kernelspec": {
   "display_name": "geers",
   "language": "python",
   "name": "python3"
  },
  "language_info": {
   "codemirror_mode": {
    "name": "ipython",
    "version": 3
   },
   "file_extension": ".py",
   "mimetype": "text/x-python",
   "name": "python",
   "nbconvert_exporter": "python",
   "pygments_lexer": "ipython3",
   "version": "3.12.3"
  }
 },
 "nbformat": 4,
 "nbformat_minor": 2
}
