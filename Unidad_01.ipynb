{
 "cells": [
  {
   "cell_type": "markdown",
   "metadata": {},
   "source": [
    "# Unidad 1 - El entorno y las variables\n",
    "Bienvenido a la primera unidad. \n",
    "\n",
    "En esta oportunidad vamos a explorar las distintas alternativas para escribir código Python.\n",
    "\n",
    "\n",
    "# **Entornos para programar en Python**\n",
    "\n",
    "Un **entorno de programación en Python** es el espacio donde se escribe, ejecuta y depura código en este lenguaje. Estos entornos pueden variar en complejidad y funcionalidad según las necesidades del programador.  \n",
    "\n",
    "## **Tipos de entornos más utilizados**  \n",
    "\n",
    "### 1. Consola o intérprete de Python  \n",
    "- **Descripción:** Se accede mediante el comando `python` en la terminal o símbolo del sistema.  \n",
    "- **Fortalezas:**  \n",
    "  - Fácil de usar para pruebas rápidas.  \n",
    "  - No requiere instalación adicional.  \n",
    "- **Debilidades:**  \n",
    "  - No permite manejar proyectos grandes de manera eficiente.  \n",
    "  - No ofrece herramientas avanzadas como depuración o autocompletado.  \n",
    "\n",
    "### 2. IDEs (Entornos de Desarrollo Integrado)  \n",
    "- **Ejemplos:** PyCharm, Visual Studio Code, Spyder.  \n",
    "- **Fortalezas:**  \n",
    "  - Incluyen herramientas como autocompletado, depuración y administración de paquetes.  \n",
    "  - Son ideales para desarrollo a gran escala.  \n",
    "- **Debilidades:**  \n",
    "  - Pueden ser pesados y consumir más recursos del sistema.  \n",
    "  - Requieren configuración inicial.  \n",
    "\n",
    "### 3. Jupyter Notebooks  \n",
    "- **Descripción:** Un entorno interactivo basado en celdas, muy usado en ciencia de datos.  \n",
    "- **Fortalezas:**  \n",
    "  - Permite ejecutar código en fragmentos, facilitando pruebas y visualización de datos.  \n",
    "  - Compatible con gráficos y visualizaciones en tiempo real.  \n",
    "- **Debilidades:**  \n",
    "  - No es óptimo para proyectos grandes.  \n",
    "  - La gestión del entorno puede ser compleja.  \n",
    "\n",
    "## **Entornos Virtuales en Python**  \n",
    "Un **entorno virtual** es una instancia aislada de Python que permite instalar paquetes sin afectar el sistema global. Se crean con herramientas como `venv` o `virtualenv`.  \n",
    "\n",
    "- **Beneficios:**  \n",
    "  - Evita conflictos entre versiones de paquetes.  \n",
    "  - Facilita la replicación del entorno en otros sistemas.  \n",
    "  - Es esencial para proyectos con dependencias específicas.  \n",
    "\n",
    "En resumen, la elección del entorno depende del tipo de proyecto y de las necesidades del programador.\n"
   ]
  }
 ],
 "metadata": {
  "language_info": {
   "name": "python"
  }
 },
 "nbformat": 4,
 "nbformat_minor": 2
}
