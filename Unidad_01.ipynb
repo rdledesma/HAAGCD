{
 "cells": [
  {
   "cell_type": "markdown",
   "metadata": {},
   "source": [
    "# Unidad 1 - El entorno y las variables\n",
    "Bienvenido a la primera unidad. \n",
    "\n",
    "En esta oportunidad vamos a explorar las distintas alternativas para escribir código Python.\n",
    "\n",
    "\n",
    "## **Entornos para programar en Python**\n",
    "\n",
    "Un **entorno de programación en Python** es el espacio donde se escribe, ejecuta y depura código en este lenguaje. Estos entornos pueden variar en complejidad y funcionalidad según las necesidades del programador.  \n",
    "\n",
    "## **Tipos de entornos más utilizados**  \n",
    "\n",
    "### 1. Consola o intérprete de Python  \n",
    "- **Descripción:** Se accede mediante el comando `python` en la terminal o símbolo del sistema.  \n",
    "- **Fortalezas:**  \n",
    "  - Fácil de usar para pruebas rápidas.  \n",
    "  - No requiere instalación adicional.  \n",
    "- **Debilidades:**  \n",
    "  - No permite manejar proyectos grandes de manera eficiente.  \n",
    "  - No ofrece herramientas avanzadas como depuración o autocompletado.  \n",
    "\n",
    "### 2. IDEs (Entornos de Desarrollo Integrado)  \n",
    "- **Ejemplos:** PyCharm, Visual Studio Code, Spyder.  \n",
    "- **Fortalezas:**  \n",
    "  - Incluyen herramientas como autocompletado, depuración y administración de paquetes.  \n",
    "  - Son ideales para desarrollo a gran escala.  \n",
    "- **Debilidades:**  \n",
    "  - Pueden ser pesados y consumir más recursos del sistema.  \n",
    "  - Requieren configuración inicial.  \n",
    "\n",
    "### 3. Jupyter Notebooks  \n",
    "- **Descripción:** Un entorno interactivo basado en celdas, muy usado en ciencia de datos.  \n",
    "- **Fortalezas:**  \n",
    "  - Permite ejecutar código en fragmentos, facilitando pruebas y visualización de datos.  \n",
    "  - Compatible con gráficos y visualizaciones en tiempo real.  \n",
    "- **Debilidades:**  \n",
    "  - No es óptimo para proyectos grandes.  \n",
    "  - La gestión del entorno puede ser compleja.  \n",
    "\n",
    "## **Entornos Virtuales en Python**  \n",
    "Un **entorno virtual** es una instancia aislada de Python que permite instalar paquetes sin afectar el sistema global. Se crean con herramientas como `venv` o `virtualenv`.  \n",
    "\n",
    "- **Beneficios:**  \n",
    "  - Evita conflictos entre versiones de paquetes.  \n",
    "  - Facilita la replicación del entorno en otros sistemas.  \n",
    "  - Es esencial para proyectos con dependencias específicas.  \n",
    "\n",
    "En resumen, la elección del entorno depende del tipo de proyecto y de las necesidades del programador.\n"
   ]
  },
  {
   "cell_type": "markdown",
   "metadata": {},
   "source": [
    "En este curso las clases van a ser presentadas mediante Jupyter Notebooks, el lector podrá replicar el contenido mediante el uso de Notebooks de Google colab si no desea realizar alguna instalación, sin embargo consideramos que será mas provechoso instalar utilizar alguna otra alternativa que considere una instalación local."
   ]
  },
  {
   "cell_type": "markdown",
   "metadata": {},
   "source": [
    "[Tutorial de instalación en Windows](https://www.youtube.com/watch?v=KVdWWsklW6o)\n",
    "\n",
    "[Tutorial de instalación en Windows Usando Enternos Virtuales](https://www.youtube.com/watch?v=Fo-jkW8rPs8)"
   ]
  },
  {
   "cell_type": "markdown",
   "metadata": {},
   "source": [
    "En esta primer case vamos introducir algunos conceptos básicos de Python. Comenzando desde cero vas a aprender a editar, ejecutar y debuguear pequeños programas. También presentamos algunos tipos de datos de Python: número enteros, números de punto flotante, cadenas y listas."
   ]
  },
  {
   "cell_type": "code",
   "execution_count": 30,
   "metadata": {},
   "outputs": [
    {
     "name": "stdout",
     "output_type": "stream",
     "text": [
      "Hola Mundo\n"
     ]
    }
   ],
   "source": [
    "# Esto es un comentario\n",
    "print(\"Hola Mundo\") #Esto imprime un mensaje"
   ]
  },
  {
   "cell_type": "markdown",
   "metadata": {},
   "source": [
    "El código anterior imprime el mensaje \"Hola Mundo\"."
   ]
  },
  {
   "cell_type": "markdown",
   "metadata": {},
   "source": [
    "Usted podría preguntarse:\n",
    "- Qué es 'print'?\n",
    "- Sólo se puede imprimir el mensaje 'Hola Mundo'?\n",
    "- Porqué deben utilizarse '()'?\n",
    "- Dónde se encuentra especificado que al escribir la palabra 'print' deba mostrarse como \n",
    "resultado un mensaje?\n"
   ]
  },
  {
   "cell_type": "markdown",
   "metadata": {},
   "source": [
    "Es objetivo de este curso que usted adquiera el conocimiento para realizarse este tipo de preguntas y donde buscar lugares para responderlas."
   ]
  },
  {
   "cell_type": "markdown",
   "metadata": {},
   "source": [
    "Python como calculadora\n",
    "- ¿Cuántas horas son 105 minutos?"
   ]
  },
  {
   "cell_type": "code",
   "execution_count": 31,
   "metadata": {},
   "outputs": [
    {
     "data": {
      "text/plain": [
       "1.75"
      ]
     },
     "execution_count": 31,
     "metadata": {},
     "output_type": "execute_result"
    }
   ],
   "source": [
    "105/60"
   ]
  },
  {
   "cell_type": "markdown",
   "metadata": {},
   "source": [
    "- ¿Cuántos kilometros son 20 millas? (un kilómetro corresponde a 0.6214 millas)"
   ]
  },
  {
   "cell_type": "code",
   "execution_count": 32,
   "metadata": {},
   "outputs": [
    {
     "data": {
      "text/plain": [
       "32.1853878339234"
      ]
     },
     "execution_count": 32,
     "metadata": {},
     "output_type": "execute_result"
    }
   ],
   "source": [
    "20 / 0.6214"
   ]
  },
  {
   "cell_type": "markdown",
   "metadata": {},
   "source": [
    "- Si alguien corre una carrera de 20 millas en 105 minutos, ¿cuál fue su velocidad promedio en km/h?\n",
    " \n",
    "Puede utilizar  el guión bajo (underscore, _) para referirte al resultado del último cálculo."
   ]
  },
  {
   "cell_type": "code",
   "execution_count": 33,
   "metadata": {},
   "outputs": [
    {
     "data": {
      "text/plain": [
       "18.391650190813372"
      ]
     },
     "execution_count": 33,
     "metadata": {},
     "output_type": "execute_result"
    }
   ],
   "source": [
    "_/1.75\n",
    "18.391650190813372"
   ]
  },
  {
   "cell_type": "markdown",
   "metadata": {},
   "source": [
    "Reglas generales al momento de escribir cigo Python:\n",
    "\n",
    "    No se usan llaves {} ni ;. Se usa identación.\n",
    "\n",
    "    Los comentarios van con #.\n",
    "\n",
    "    Las instrucciones se escriben en líneas separadas."
   ]
  },
  {
   "cell_type": "markdown",
   "metadata": {},
   "source": [
    "Los **Tipos de Datos** son necesarios en cualquier lenguage de programación.\n",
    "\n",
    "Nos van a permitir almacenar información específica y a partir de ellos vamos a poder realizar algunas operaciones."
   ]
  },
  {
   "cell_type": "markdown",
   "metadata": {},
   "source": [
    "Cada tipo de dato representa una forma diferente de almacenar y trabajar con la información:\n",
    "\n",
    "    Una edad se representa con un int.\n",
    "\n",
    "    Un precio con float.\n",
    "\n",
    "    Un nombre con str.\n",
    "\n",
    "    Una respuesta lógica con bool.\n",
    "\n",
    "Esto permite que el programa sepa cómo tratar cada valor."
   ]
  },
  {
   "cell_type": "markdown",
   "metadata": {},
   "source": [
    "Una variable es como una caja con nombre donde puedes guardar un valor para usarlo más adelante en tu programa."
   ]
  },
  {
   "cell_type": "code",
   "execution_count": 34,
   "metadata": {},
   "outputs": [],
   "source": [
    "mensaje = \"Hola Mundo\""
   ]
  },
  {
   "cell_type": "markdown",
   "metadata": {},
   "source": [
    "Aquí estás creando una caja llamada nombre que guarda el valor \"Hola Mundo\".\n",
    "La sintaxis más básica corresponde a :\n",
    "\n",
    "nombre_variable = valor"
   ]
  },
  {
   "cell_type": "markdown",
   "metadata": {},
   "source": [
    "📏 Reglas para nombrar variables:\n",
    "\n",
    "    Deben comenzar con una letra o guion bajo (_), nunca con un número.\n",
    "\n",
    "    No pueden tener espacios (usa guiones bajos: mi_variable).\n",
    "\n",
    "    No uses palabras reservadas como if, while, def, etc.\n",
    "\n",
    "    Usa nombres descriptivos, por ejemplo:"
   ]
  },
  {
   "cell_type": "code",
   "execution_count": 35,
   "metadata": {},
   "outputs": [],
   "source": [
    "edad = 30          # int\n",
    "pi = 3.1415        # float\n",
    "nombre = \"Ana\"     # str\n",
    "activo = True      # bool"
   ]
  },
  {
   "cell_type": "code",
   "execution_count": 36,
   "metadata": {},
   "outputs": [
    {
     "name": "stdout",
     "output_type": "stream",
     "text": [
      "Ana tiene 30 años.\n"
     ]
    }
   ],
   "source": [
    "mensaje = f\"{nombre} tiene {edad} años.\"\n",
    "print(mensaje)"
   ]
  },
  {
   "cell_type": "markdown",
   "metadata": {},
   "source": [
    "Un f-string (o formatted string literal) es una forma moderna y sencilla de insertar variables dentro de cadenas de texto en Python. Se antepone la letra f antes de la cadena, y las variables se colocan entre llaves {} dentro del texto."
   ]
  },
  {
   "cell_type": "markdown",
   "metadata": {},
   "source": [
    "Antes de que existieran los f-strings (introducidos en Python 3.6), se usaban otras formas para formatear cadenas:"
   ]
  },
  {
   "cell_type": "code",
   "execution_count": 37,
   "metadata": {},
   "outputs": [
    {
     "name": "stdout",
     "output_type": "stream",
     "text": [
      "Javier tiene 38 años.\n",
      "Javier ahora tiene 40 años.\n"
     ]
    }
   ],
   "source": [
    "nombre = \"Javier\"\n",
    "edad = 38\n",
    "mensaje = nombre + \" tiene \" + str(edad) + \" años.\"\n",
    "print(mensaje)\n",
    "edad = 40\n",
    "mensaje = \"{} ahora tiene {} años.\".format(nombre, edad)\n",
    "print(mensaje)\n"
   ]
  },
  {
   "cell_type": "code",
   "execution_count": 38,
   "metadata": {},
   "outputs": [
    {
     "name": "stdout",
     "output_type": "stream",
     "text": [
      "Javier tiene 40 años.\n"
     ]
    }
   ],
   "source": [
    "#Ya no se recomienda el estilo de C\n",
    "mensaje = \"%s tiene %d años.\" % (nombre, edad)\n",
    "print(mensaje)"
   ]
  },
  {
   "cell_type": "markdown",
   "metadata": {},
   "source": [
    "### Operaciones Básicas con datos numéricos"
   ]
  },
  {
   "cell_type": "markdown",
   "metadata": {},
   "source": []
  },
  {
   "cell_type": "code",
   "execution_count": 39,
   "metadata": {},
   "outputs": [
    {
     "name": "stdout",
     "output_type": "stream",
     "text": [
      "13\n",
      "7\n",
      "30\n",
      "3.3333333333333335\n",
      "3\n",
      "1\n",
      "1000\n"
     ]
    }
   ],
   "source": [
    "a = 10\n",
    "b = 3\n",
    "\n",
    "# Suma\n",
    "print(a + b)       # 13\n",
    "\n",
    "# Resta\n",
    "print(a - b)       # 7\n",
    "\n",
    "# Multiplicación\n",
    "print(a * b)       # 30\n",
    "\n",
    "# División (resultado float)\n",
    "print(a / b)       # 3.333...\n",
    "\n",
    "# División entera\n",
    "print(a // b)      # 3\n",
    "\n",
    "# Módulo (resto)\n",
    "print(a % b)       # 1\n",
    "\n",
    "# Potencia\n",
    "print(a ** b)      # 1000"
   ]
  },
  {
   "cell_type": "markdown",
   "metadata": {},
   "source": [
    "### Operaciones básicas con cadenas de texto"
   ]
  },
  {
   "cell_type": "code",
   "execution_count": 40,
   "metadata": {},
   "outputs": [
    {
     "name": "stdout",
     "output_type": "stream",
     "text": [
      "Hola Mundo\n",
      "HolaHolaHola\n",
      "4\n",
      "H\n"
     ]
    }
   ],
   "source": [
    "texto1 = \"Hola\"\n",
    "texto2 = \"Mundo\"\n",
    "\n",
    "# Concatenación\n",
    "print(texto1 + \" \" + texto2)  # Hola Mundo\n",
    "\n",
    "# Repetición\n",
    "print(texto1 * 3)             # HolaHolaHola\n",
    "\n",
    "# Longitud\n",
    "print(len(texto1))            # 4\n",
    "\n",
    "# Acceso a caracteres\n",
    "print(texto1[0])              # H"
   ]
  },
  {
   "cell_type": "markdown",
   "metadata": {},
   "source": [
    "### Operaciones lógicas"
   ]
  },
  {
   "cell_type": "code",
   "execution_count": 41,
   "metadata": {},
   "outputs": [
    {
     "name": "stdout",
     "output_type": "stream",
     "text": [
      "False\n",
      "True\n",
      "False\n",
      "True\n",
      "False\n"
     ]
    }
   ],
   "source": [
    "a = True\n",
    "b = False\n",
    "\n",
    "# Operadores lógicos\n",
    "print(a and b)   # False\n",
    "print(a or b)    # True\n",
    "print(not a)     # False\n",
    "\n",
    "\n",
    "x = 10\n",
    "y = 20\n",
    "print(x < y)     # True\n",
    "print(x == y)    # False\n",
    "\n"
   ]
  },
  {
   "cell_type": "markdown",
   "metadata": {},
   "source": [
    "### Conversión de Tipos de datos"
   ]
  },
  {
   "cell_type": "code",
   "execution_count": 44,
   "metadata": {},
   "outputs": [
    {
     "name": "stdout",
     "output_type": "stream",
     "text": [
      "31\n"
     ]
    }
   ],
   "source": [
    "edad_str = \"30\"\n",
    "edad = int(edad_str)\n",
    "print(edad + 1)  # 31\n"
   ]
  },
  {
   "cell_type": "code",
   "execution_count": 45,
   "metadata": {},
   "outputs": [
    {
     "name": "stdout",
     "output_type": "stream",
     "text": [
      "El precio es: 19.99\n"
     ]
    }
   ],
   "source": [
    "precio = 19.99\n",
    "texto = \"El precio es: \" + str(precio)\n",
    "print(texto)"
   ]
  },
  {
   "cell_type": "code",
   "execution_count": 46,
   "metadata": {},
   "outputs": [
    {
     "name": "stdout",
     "output_type": "stream",
     "text": [
      "7.0\n"
     ]
    }
   ],
   "source": [
    "x = 7\n",
    "y = float(x)\n",
    "print(y)  # 7.0"
   ]
  },
  {
   "cell_type": "code",
   "execution_count": 47,
   "metadata": {},
   "outputs": [
    {
     "name": "stdout",
     "output_type": "stream",
     "text": [
      "1\n",
      "0\n"
     ]
    }
   ],
   "source": [
    "print(int(True))   # 1\n",
    "print(int(False))  # 0"
   ]
  },
  {
   "cell_type": "code",
   "execution_count": 48,
   "metadata": {},
   "outputs": [
    {
     "name": "stdout",
     "output_type": "stream",
     "text": [
      "False\n",
      "True\n"
     ]
    }
   ],
   "source": [
    "print(bool(0))     # False\n",
    "print(bool(10))    # True"
   ]
  },
  {
   "cell_type": "code",
   "execution_count": 49,
   "metadata": {},
   "outputs": [
    {
     "ename": "ValueError",
     "evalue": "invalid literal for int() with base 10: 'hola'",
     "output_type": "error",
     "traceback": [
      "\u001b[0;31m---------------------------------------------------------------------------\u001b[0m",
      "\u001b[0;31mValueError\u001b[0m                                Traceback (most recent call last)",
      "Cell \u001b[0;32mIn[49], line 1\u001b[0m\n\u001b[0;32m----> 1\u001b[0m \u001b[38;5;28mint\u001b[39m(\u001b[38;5;124m\"\u001b[39m\u001b[38;5;124mhola\u001b[39m\u001b[38;5;124m\"\u001b[39m)\n",
      "\u001b[0;31mValueError\u001b[0m: invalid literal for int() with base 10: 'hola'"
     ]
    }
   ],
   "source": [
    "int(\"hola\")  # ❌ error: no es un número"
   ]
  },
  {
   "cell_type": "markdown",
   "metadata": {},
   "source": [
    "## Ejercicios ##"
   ]
  },
  {
   "cell_type": "markdown",
   "metadata": {},
   "source": [
    "Declara variables para almacenar tu nombre, edad, y si te gusta programar. Luego imprímelas."
   ]
  },
  {
   "cell_type": "code",
   "execution_count": 42,
   "metadata": {},
   "outputs": [],
   "source": [
    "### edad ..."
   ]
  },
  {
   "cell_type": "markdown",
   "metadata": {},
   "source": [
    "Crea una variable de cada tipo básico y usa type() para mostrar su tipo."
   ]
  },
  {
   "cell_type": "code",
   "execution_count": 43,
   "metadata": {},
   "outputs": [
    {
     "name": "stdout",
     "output_type": "stream",
     "text": [
      "<class 'str'>\n"
     ]
    }
   ],
   "source": [
    "a = '1'\n",
    "print(type(a))"
   ]
  },
  {
   "cell_type": "markdown",
   "metadata": {},
   "source": [
    "Dado el string \"2025\", conviértelo a número, súmale 1, y vuelve a convertirlo en texto."
   ]
  },
  {
   "cell_type": "code",
   "execution_count": 50,
   "metadata": {},
   "outputs": [],
   "source": [
    "#texto = \"2025\""
   ]
  },
  {
   "cell_type": "markdown",
   "metadata": {},
   "source": [
    "Dado un número entero guardado en una variable, imprime si es par o impar."
   ]
  },
  {
   "cell_type": "code",
   "execution_count": 51,
   "metadata": {},
   "outputs": [],
   "source": [
    "numero = 7  # Cambia este valor\n",
    "\n",
    "# Tu código aquí"
   ]
  }
 ],
 "metadata": {
  "kernelspec": {
   "display_name": "geers-env",
   "language": "python",
   "name": "python3"
  },
  "language_info": {
   "codemirror_mode": {
    "name": "ipython",
    "version": 3
   },
   "file_extension": ".py",
   "mimetype": "text/x-python",
   "name": "python",
   "nbconvert_exporter": "python",
   "pygments_lexer": "ipython3",
   "version": "3.11.3"
  }
 },
 "nbformat": 4,
 "nbformat_minor": 2
}
