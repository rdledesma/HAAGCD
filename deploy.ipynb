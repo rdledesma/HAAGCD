{
 "cells": [
  {
   "cell_type": "markdown",
   "metadata": {},
   "source": [
    "python -m build          # genera dist/*.tar.gz y dist/*.whl"
   ]
  },
  {
   "cell_type": "markdown",
   "metadata": {},
   "source": [
    "Crea un token en https://test.pypi.org.\n",
    "\n"
   ]
  },
  {
   "cell_type": "markdown",
   "metadata": {},
   "source": [
    "Guárdalo en una variable de entorno:\n",
    "\n",
    "set TWINE_PASSWORD=pypi-********  # en Windows\n",
    "export TWINE_PASSWORD=pypi-********  # en Linux/macOS\n",
    "\n"
   ]
  },
  {
   "cell_type": "markdown",
   "metadata": {},
   "source": [
    "Sube:\n",
    "\n",
    "twine upload --repository testpypi dist/*\n",
    "\n",
    "Prueba la instalación:\n",
    "\n",
    "pip install -i https://test.pypi.org/simple geo-solar"
   ]
  },
  {
   "cell_type": "markdown",
   "metadata": {},
   "source": [
    "twine upload dist/*"
   ]
  },
  {
   "cell_type": "markdown",
   "metadata": {},
   "source": [
    "pip install geo-solar"
   ]
  },
  {
   "cell_type": "markdown",
   "metadata": {},
   "source": [
    "name: geo-dev\n",
    "channels:\n",
    "  - conda-forge\n",
    "dependencies:\n",
    "  - python=3.12\n",
    "  - pip\n",
    "  - build\n",
    "  - twine\n",
    "  - numpy\n",
    "  - pandas"
   ]
  },
  {
   "cell_type": "markdown",
   "metadata": {},
   "source": [
    "conda env create -f environment.yml\n",
    "conda activate geo-dev\n"
   ]
  }
 ],
 "metadata": {
  "kernelspec": {
   "display_name": "geers",
   "language": "python",
   "name": "python3"
  },
  "language_info": {
   "codemirror_mode": {
    "name": "ipython",
    "version": 3
   },
   "file_extension": ".py",
   "mimetype": "text/x-python",
   "name": "python",
   "nbconvert_exporter": "python",
   "pygments_lexer": "ipython3",
   "version": "3.12.3"
  }
 },
 "nbformat": 4,
 "nbformat_minor": 2
}
