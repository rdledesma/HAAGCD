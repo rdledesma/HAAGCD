{
 "cells": [
  {
   "cell_type": "code",
   "execution_count": 2,
   "metadata": {},
   "outputs": [
    {
     "name": "stdout",
     "output_type": "stream",
     "text": [
      "<xarray.Dataset>\n",
      "Dimensions:         (time: 1, lat: 3201, lon: 3201)\n",
      "Coordinates:\n",
      "  * lat             (lat) float32 80.0 79.95 79.9 79.85 ... -79.9 -79.95 -80.0\n",
      "  * lon             (lon) float32 -80.0 -79.95 -79.9 -79.85 ... 79.9 79.95 80.0\n",
      "  * time            (time) datetime64[ns] 2025-05-22T16:00:00\n",
      "Data variables:\n",
      "    LST             (time, lat, lon) float32 ...\n",
      "    crs             |S1 ...\n",
      "    delta_LST0_KHS  (time, lat, lon) float32 ...\n",
      "    quality_flag    (time, lat, lon) float32 ...\n",
      "    standard_error  (time, lat, lon) float32 ...\n",
      "Attributes: (12/29)\n",
      "    date_created:               2025-05-22T16:18:25Z\n",
      "    algorithm_version:          2.0.0\n",
      "    base_algorithm_version:     8.0.2\n",
      "    processing_level:           02\n",
      "    platform:                   MSG3\n",
      "    sensor:                     SEVI\n",
      "    ...                         ...\n",
      "    geospatial_lat_units:       degrees_north\n",
      "    geospatial_lon_units:       degrees_east\n",
      "    keywords:                   Earth Science, Land Surface, Land Temperature...\n",
      "    keywords_vocabulary:        NASA Global change Master Directory (GCMD Sci...\n",
      "    Conventions:                CF-1.6\n",
      "    netcdf_version_id:          netCDF4\n"
     ]
    }
   ],
   "source": [
    "import xarray as xr\n",
    "\n",
    "# Abrir archivo NetCDF\n",
    "ds = xr.open_dataset('datos/temps/NETCDF4_LSASAF_MSG_LST_MSG-Disk_202505221600.nc')\n",
    "\n",
    "# Ver contenido\n",
    "print(ds)"
   ]
  }
 ],
 "metadata": {
  "kernelspec": {
   "display_name": "geers-env",
   "language": "python",
   "name": "python3"
  },
  "language_info": {
   "codemirror_mode": {
    "name": "ipython",
    "version": 3
   },
   "file_extension": ".py",
   "mimetype": "text/x-python",
   "name": "python",
   "nbconvert_exporter": "python",
   "pygments_lexer": "ipython3",
   "version": "3.11.3"
  }
 },
 "nbformat": 4,
 "nbformat_minor": 2
}
