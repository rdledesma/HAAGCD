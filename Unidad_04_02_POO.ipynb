{
 "cells": [
  {
   "cell_type": "markdown",
   "metadata": {},
   "source": [
    "# Unidad 4: Principios de la Programación Orientada a Objetos (POO)\n",
    "\n",
    "Los principios de la Programación Orientada a Objetos (POO) son las bases que guían el diseño de software orientado a objetos, promoviendo la reutilización, claridad y mantenimiento del código. Los cuatro principios fundamentales son Abstracción, Encapsulamiento, Herencia y Polimorfismo."
   ]
  },
  {
   "cell_type": "markdown",
   "metadata": {},
   "source": [
    "## 1. Abstracción\n",
    "\n",
    "La abstracción es el principio que permite simplificar objetos complejos enfocándose solo en los detalles esenciales, ocultando las complejidades internas y exponiendo únicamente las funcionalidades relevantes para el usuario."
   ]
  },
  {
   "cell_type": "code",
   "execution_count": 1,
   "metadata": {},
   "outputs": [
    {
     "name": "stdout",
     "output_type": "stream",
     "text": [
      "El coche está encendido.\n",
      "La moto está encendida.\n"
     ]
    }
   ],
   "source": [
    "class Vehiculo:\n",
    "    def encender(self):\n",
    "        pass  # Método abstracto (no implementado)\n",
    "    \n",
    "    def apagar(self):\n",
    "        pass  # Método abstracto (no implementado)\n",
    "\n",
    "class Coche(Vehiculo):\n",
    "    def encender(self):\n",
    "        print(\"El coche está encendido.\")\n",
    "    \n",
    "    def apagar(self):\n",
    "        print(\"El coche está apagado.\")\n",
    "\n",
    "class Moto(Vehiculo):\n",
    "    def encender(self):\n",
    "        print(\"La moto está encendida.\")\n",
    "    \n",
    "    def apagar(self):\n",
    "        print(\"La moto está apagada.\")\n",
    "\n",
    "vehiculo1 = Coche()\n",
    "vehiculo1.encender()  # Salida: El coche está encendido.\n",
    "vehiculo2 = Moto()\n",
    "vehiculo2.encender()  # Salida: La moto está encendida."
   ]
  },
  {
   "cell_type": "markdown",
   "metadata": {},
   "source": [
    "En este ejemplo, la clase Vehiculo define una interfaz básica para encender y apagar, sin preocuparse por cómo cada tipo específico de vehículo lo implementa."
   ]
  },
  {
   "cell_type": "markdown",
   "metadata": {},
   "source": [
    "## 2. Encapsulamiento\n",
    "\n",
    "El encapsulamiento es el principio de ocultar los detalles internos de los objetos para proteger su estado. Esto se logra utilizando atributos privados y métodos de acceso."
   ]
  },
  {
   "cell_type": "code",
   "execution_count": 3,
   "metadata": {},
   "outputs": [
    {
     "name": "stdout",
     "output_type": "stream",
     "text": [
      "1500\n"
     ]
    }
   ],
   "source": [
    "class CuentaBancaria:\n",
    "    def __init__(self, titular, saldo):\n",
    "        self._titular = titular\n",
    "        self.__saldo = saldo  # Atributo privado\n",
    "    \n",
    "    def obtener_saldo(self):\n",
    "        return self.__saldo\n",
    "    \n",
    "    def depositar(self, monto):\n",
    "        if monto > 0:\n",
    "            self.__saldo += monto\n",
    "\n",
    "cuenta = CuentaBancaria(\"Carlos\", 1000)\n",
    "cuenta.depositar(500)\n",
    "print(cuenta.obtener_saldo())  # Salida: 1500"
   ]
  },
  {
   "cell_type": "markdown",
   "metadata": {},
   "source": [
    "Aquí, el atributo __saldo está encapsulado para evitar modificaciones directas desde fuera de la clase, protegiendo la integridad de los datos."
   ]
  },
  {
   "cell_type": "markdown",
   "metadata": {},
   "source": [
    "## 3. Herencia\n",
    "\n",
    "La herencia permite crear nuevas clases basadas en clases existentes, reutilizando atributos y métodos, y permitiendo extender o modificar su comportamiento."
   ]
  },
  {
   "cell_type": "code",
   "execution_count": 5,
   "metadata": {},
   "outputs": [
    {
     "name": "stdout",
     "output_type": "stream",
     "text": [
      "Ladra\n",
      "Maulla\n"
     ]
    }
   ],
   "source": [
    "class Animal:\n",
    "    def __init__(self, nombre):\n",
    "        self.nombre = nombre\n",
    "    \n",
    "    def hacer_sonido(self):\n",
    "        return \"Hace un sonido\"\n",
    "\n",
    "class Perro(Animal):\n",
    "    def hacer_sonido(self):\n",
    "        return \"Ladra\"\n",
    "\n",
    "class Gato(Animal):\n",
    "    def hacer_sonido(self):\n",
    "        return \"Maulla\"\n",
    "\n",
    "perro = Perro(\"Fido\")\n",
    "gato = Gato(\"Michi\")\n",
    "print(perro.hacer_sonido())  # Salida: Ladra\n",
    "print(gato.hacer_sonido())   # Salida: Maulla"
   ]
  },
  {
   "cell_type": "markdown",
   "metadata": {},
   "source": [
    "En este ejemplo, Perro y Gato heredan de Animal, reutilizando su estructura básica pero redefiniendo su comportamiento."
   ]
  },
  {
   "cell_type": "markdown",
   "metadata": {},
   "source": [
    "## 4. Polimorfismo\n",
    "\n",
    "El polimorfismo permite que diferentes clases puedan ser tratadas como una misma clase base, facilitando el uso de métodos comunes con diferentes comportamientos."
   ]
  },
  {
   "cell_type": "code",
   "execution_count": 6,
   "metadata": {},
   "outputs": [
    {
     "name": "stdout",
     "output_type": "stream",
     "text": [
      "Ladra\n",
      "Maulla\n",
      "Ladra\n"
     ]
    }
   ],
   "source": [
    "animales = [Perro(\"Max\"), Gato(\"Luna\"), Perro(\"Rex\")]\n",
    "for animal in animales:\n",
    "    print(animal.hacer_sonido())"
   ]
  },
  {
   "cell_type": "markdown",
   "metadata": {},
   "source": [
    "Aquí, cada objeto en la lista animales es tratado de forma uniforme, a pesar de que Perro y Gato tienen implementaciones diferentes para el método hacer_sonido()."
   ]
  },
  {
   "cell_type": "markdown",
   "metadata": {},
   "source": [
    "Estos principios son fundamentales para diseñar sistemas de software que sean flexibles, reutilizables y fáciles de mantener. Cada principio tiene un propósito claro y se complementan para crear arquitecturas de software más robustas y comprensibles.\n",
    "\n"
   ]
  }
 ],
 "metadata": {
  "kernelspec": {
   "display_name": "geers",
   "language": "python",
   "name": "python3"
  },
  "language_info": {
   "codemirror_mode": {
    "name": "ipython",
    "version": 3
   },
   "file_extension": ".py",
   "mimetype": "text/x-python",
   "name": "python",
   "nbconvert_exporter": "python",
   "pygments_lexer": "ipython3",
   "version": "3.12.3"
  }
 },
 "nbformat": 4,
 "nbformat_minor": 2
}
