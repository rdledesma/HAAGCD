{
 "cells": [
  {
   "cell_type": "markdown",
   "metadata": {},
   "source": [
    "# Unidad 5: Introducción a Archivos NetCDF y su Manipulación en Python - continuación\n",
    "\n",
    "\n"
   ]
  },
  {
   "cell_type": "markdown",
   "metadata": {},
   "source": [
    "Tanto los modelos de reanálisis como los productos satelitales son fuentes fundamentales de datos en ciencias atmosféricas, oceanografía, climatología, etc., pero se basan en enfoques distintos. Aquí va una explicación clara y comparativa:"
   ]
  },
  {
   "cell_type": "markdown",
   "metadata": {},
   "source": [
    "🌎 ¿Qué son los modelos de reanálisis?\n",
    "\n",
    "Son datasets que resultan de simulaciones numéricas del clima o la atmósfera, en las que se asimilan observaciones reales (de estaciones, satélites, globos, aviones, etc.) dentro de un modelo físico consistente.\n",
    "🧩 Características clave:\n",
    "\n",
    "    Usan un modelo global o regional del clima (por ejemplo, ECMWF, NCEP).\n",
    "\n",
    "    Asimilan observaciones reales a lo largo del tiempo (desde décadas pasadas hasta el presente).\n",
    "\n",
    "    Son consistentes en el espacio y el tiempo.\n",
    "\n",
    "    Brindan variables que no siempre se miden directamente, como viento a 850 hPa, flujos, humedad integrada, etc.\n",
    "\n",
    "📦 Ejemplos populares:\n",
    "Reanálisis\tInstitución\tResolución\tDesde\n",
    "ERA5\tECMWF\t~31 km, 1 h\t1950s\n",
    "MERRA-2\tNASA\t~50 km, 1 h\t1980\n",
    "NCEP/NCAR\tNOAA\t~210 km, 6 h\t1948\n",
    "JRA-55\tJMA (Japón)\t~55 km, 6 h\t1958"
   ]
  },
  {
   "cell_type": "markdown",
   "metadata": {},
   "source": [
    "🛰️ ¿Qué son los productos satelitales?\n",
    "\n",
    "Son datasets derivados de observaciones hechas por sensores a bordo de satélites. Algunos son pasivos (detectan radiación), otros activos (como radar o lidar).\n",
    "🧩 Características clave:\n",
    "\n",
    "    Basados en mediciones reales hechas desde el espacio.\n",
    "\n",
    "    Proveen información de alta resolución espacial, pero a veces más ruido o menos cobertura temporal.\n",
    "\n",
    "    Miden variables como:\n",
    "\n",
    "        Temperatura de la superficie del mar (SST)\n",
    "\n",
    "        Cobertura nubosa\n",
    "\n",
    "        Radiación solar\n",
    "\n",
    "        Altura de nubes, precipitación, humedad, aerosoles...\n",
    "\n",
    "📦 Ejemplos populares:\n",
    "Producto satelital\tSatélite / Sensor\tVariable\n",
    "MODIS\tTerra / Aqua\tVegetación, temperatura, nubes\n",
    "TRMM / GPM\tNASA/JAXA\tPrecipitación\n",
    "AMSU / AIRS\tNOAA, Aqua\tTemperatura en altura\n",
    "Sentinel-3\tESA\tSST, color oceánico"
   ]
  },
  {
   "cell_type": "markdown",
   "metadata": {},
   "source": [
    "Existen una amplia variedad de modelos que se distribuyen en formato netCDF."
   ]
  },
  {
   "cell_type": "markdown",
   "metadata": {},
   "source": [
    "## LSA SAF\n",
    "\n",
    "LSA SAF se especializa en el análisis de la superficie terrestre utilizando datos satelitales, principalmente de satélites como Meteosat y MetOp. Su objetivo es generar productos operacionales que describan:\n",
    "\n",
    "    La temperatura de la superficie terrestre.\n",
    "\n",
    "    La humedad del suelo.\n",
    "\n",
    "    La evapotranspiración.\n",
    "\n",
    "    La cobertura de vegetación.\n",
    "\n",
    "    La radiación solar recibida por la superficie.\n",
    "\n",
    "    Y otros parámetros relacionados con la energía y el agua en la superficie terrestre.\n",
    "\n",
    "¿Qué es el Data Service?\n",
    "\n",
    "El LSA SAF Data Service es la plataforma o sistema que permite el acceso a los productos generados por LSA SAF. A través de este servicio, los usuarios pueden:\n",
    "\n",
    "    Descargar productos satelitales procesados.\n",
    "\n",
    "    Acceder a información en tiempo casi real y archivos históricos.\n",
    "\n",
    "    Obtener datos en diferentes formatos (NetCDF, HDF, etc.).\n",
    "\n",
    "    Consultar metadatos y documentación técnica.\n",
    "\n",
    "Este servicio es utilizado por meteorólogos, climatólogos, científicos del medio ambiente, instituciones agrícolas, y otros usuarios que requieren datos fiables sobre el estado y evolución de la superficie terrestre."
   ]
  },
  {
   "cell_type": "markdown",
   "metadata": {},
   "source": [
    "https://datalsasaf.lsasvcs.ipma.pt/"
   ]
  },
  {
   "cell_type": "markdown",
   "metadata": {},
   "source": [
    "Descarga: https://eternallybored.org/misc/wget/\n",
    "\n",
    "Documentación: https://www.gnu.org/software/wget/manual/wget.html"
   ]
  },
  {
   "cell_type": "markdown",
   "metadata": {},
   "source": [
    "### Wget\n",
    "Wget es una herramienta de software libre que pertenece al proyecto GNU.\n",
    "Su función principal es descargar archivos desde servidores web utilizando los protocolos HTTP, HTTPS y FTP. \n",
    "Es una herramienta de línea de comandos no interactiva, lo que significa que se puede usar fácilmente desde scripts y tareas automatizadas"
   ]
  },
  {
   "cell_type": "markdown",
   "metadata": {},
   "source": [
    "``` bash\n",
    " wget -c --no-check-certificate -r -np -nH --user=XXX --password=XXX \\\n",
    "     -R \"*15.nc, *30.nc, *45.nc, *.html, *.tmp\" \\\n",
    "     https://datalsasaf.lsasvcs.ipma.pt/PRODUCTS/MSG/MLST/NETCDF/2006/01/ \n",
    "\n",
    "```\n"
   ]
  },
  {
   "cell_type": "markdown",
   "metadata": {},
   "source": [
    "Este comando nos permite descargar archivos NetCDF del producto MLST (Land Surface Temperature) del satélite MSG (Meteosat Second Generation), para enero de 2006, desde el servidor de LSA SAF."
   ]
  },
  {
   "cell_type": "markdown",
   "metadata": {},
   "source": [
    "-c\tContinúa descargas interrumpidas.\n",
    "\n",
    "--no-check-certificate\tIgnora la verificación del certificado SSL \n",
    "\n",
    "-r\tDescarga recursiva: sigue los enlaces y descarga directorios/subdirectorios.\n",
    "\n",
    "-np\tNo subir al padre: evita que suba en el árbol de directorios, se queda dentro de la URL indicada.\n",
    "\n",
    "-nH\tNo crear directorios con el nombre del host (datalsasaf.lsasvcs.ipma.pt) al guardar archivos.\n",
    "\n",
    "--user=XXX --password=XXX\tAutenticación con usuario y contraseña (se requiere para acceder a muchos productos de LSA SAF).\n",
    "\n",
    "-R \"*15.nc, *30.nc, *45.nc, *.html, *.tmp\"\tRechaza (excluye) archivos con nombres que contengan esos patrones, por ejemplo: archivos con datos a los 15, 30 y 45 minutos de cada hora, archivos HTML o temporales.\n",
    "\n",
    "URL Ruta específica a los archivos del producto MLST en formato NetCDF para enero de 2006."
   ]
  },
  {
   "cell_type": "markdown",
   "metadata": {},
   "source": [
    "### Cliente del Servicio MERRA-2\n",
    "\n",
    "https://disc.gsfc.nasa.gov/information/howto?title=How%20to%20Download%20Data%20Files%20from%20HTTPS%20Service%20with%20wget"
   ]
  }
 ],
 "metadata": {
  "kernelspec": {
   "display_name": "geers-env",
   "language": "python",
   "name": "python3"
  },
  "language_info": {
   "codemirror_mode": {
    "name": "ipython",
    "version": 3
   },
   "file_extension": ".py",
   "mimetype": "text/x-python",
   "name": "python",
   "nbconvert_exporter": "python",
   "pygments_lexer": "ipython3",
   "version": "3.11.3"
  }
 },
 "nbformat": 4,
 "nbformat_minor": 2
}
