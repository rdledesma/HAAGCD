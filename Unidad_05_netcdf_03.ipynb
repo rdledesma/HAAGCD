{
 "cells": [
  {
   "cell_type": "markdown",
   "metadata": {},
   "source": [
    "# Unidad 5: Introducción a Archivos NetCDF y su Manipulación en Python - continuación\n",
    "\n",
    "\n"
   ]
  },
  {
   "cell_type": "markdown",
   "metadata": {},
   "source": [
    "Tanto los modelos de reanálisis como los productos satelitales son fuentes fundamentales de datos en ciencias atmosféricas, oceanografía, climatología, etc., pero se basan en enfoques distintos. Aquí va una explicación clara y comparativa:"
   ]
  },
  {
   "cell_type": "markdown",
   "metadata": {},
   "source": [
    "🌎 ¿Qué son los modelos de reanálisis?\n",
    "\n",
    "Son datasets que resultan de simulaciones numéricas del clima o la atmósfera, en las que se asimilan observaciones reales (de estaciones, satélites, globos, aviones, etc.) dentro de un modelo físico consistente.\n",
    "🧩 Características clave:\n",
    "\n",
    "    Usan un modelo global o regional del clima (por ejemplo, ECMWF, NCEP).\n",
    "\n",
    "    Asimilan observaciones reales a lo largo del tiempo (desde décadas pasadas hasta el presente).\n",
    "\n",
    "    Son consistentes en el espacio y el tiempo.\n",
    "\n",
    "    Brindan variables que no siempre se miden directamente, como viento a 850 hPa, flujos, humedad integrada, etc.\n",
    "\n",
    "📦 Ejemplos populares:\n",
    "Reanálisis\tInstitución\tResolución\tDesde\n",
    "ERA5\tECMWF\t~31 km, 1 h\t1950s\n",
    "MERRA-2\tNASA\t~50 km, 1 h\t1980\n",
    "NCEP/NCAR\tNOAA\t~210 km, 6 h\t1948\n",
    "JRA-55\tJMA (Japón)\t~55 km, 6 h\t1958"
   ]
  },
  {
   "cell_type": "markdown",
   "metadata": {},
   "source": [
    "🛰️ ¿Qué son los productos satelitales?\n",
    "\n",
    "Son datasets derivados de observaciones hechas por sensores a bordo de satélites. Algunos son pasivos (detectan radiación), otros activos (como radar o lidar).\n",
    "🧩 Características clave:\n",
    "\n",
    "    Basados en mediciones reales hechas desde el espacio.\n",
    "\n",
    "    Proveen información de alta resolución espacial, pero a veces más ruido o menos cobertura temporal.\n",
    "\n",
    "    Miden variables como:\n",
    "\n",
    "        Temperatura de la superficie del mar (SST)\n",
    "\n",
    "        Cobertura nubosa\n",
    "\n",
    "        Radiación solar\n",
    "\n",
    "        Altura de nubes, precipitación, humedad, aerosoles...\n",
    "\n",
    "📦 Ejemplos populares:\n",
    "Producto satelital\tSatélite / Sensor\tVariable\n",
    "MODIS\tTerra / Aqua\tVegetación, temperatura, nubes\n",
    "TRMM / GPM\tNASA/JAXA\tPrecipitación\n",
    "AMSU / AIRS\tNOAA, Aqua\tTemperatura en altura\n",
    "Sentinel-3\tESA\tSST, color oceánico"
   ]
  },
  {
   "cell_type": "markdown",
   "metadata": {},
   "source": [
    "Existen una amplia variedad de modelos que se distribuyen en formato netCDF."
   ]
  },
  {
   "cell_type": "markdown",
   "metadata": {},
   "source": [
    "Una lista muy poco exhaustiva seguro incluye: A los servicios ERA-5 y CAMS.\n",
    "\n",
    "ERA5 es un conjunto de reanálisis global de quinta generación del clima atmosférico, producido por el ECMWF, que proporciona datos horarios de diversas variables climáticas. Combina datos de modelos con observaciones para crear un conjunto de datos consistente y completo"
   ]
  },
  {
   "cell_type": "markdown",
   "metadata": {},
   "source": [
    "especificamos los datos que se requieren y ejecutamos la consulta.\n",
    "\n",
    "La mejor forma de codificar una consulta libre de errores sintácticos pasa por simularla en la aplicación web.\n",
    "\n",
    "Tras indicar los campos, los tiempos y la cobertura geográfica el botón 'Show API request' mostrará el código necesario para la petición en Python:\n"
   ]
  }
 ],
 "metadata": {
  "kernelspec": {
   "display_name": "geers-env",
   "language": "python",
   "name": "python3"
  },
  "language_info": {
   "codemirror_mode": {
    "name": "ipython",
    "version": 3
   },
   "file_extension": ".py",
   "mimetype": "text/x-python",
   "name": "python",
   "nbconvert_exporter": "python",
   "pygments_lexer": "ipython3",
   "version": "3.11.3"
  }
 },
 "nbformat": 4,
 "nbformat_minor": 2
}
