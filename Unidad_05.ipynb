{
 "cells": [
  {
   "cell_type": "markdown",
   "metadata": {},
   "source": [
    "# Unidad 5: Python para el análisis de datos\n",
    "\n",
    "Hasta este punto hemos repasado conceptos de lógica, cómo operar con los distintos tipos de datos en Python y además cómo trabajar sobre el paradigma orientado a objetos.\n",
    "\n",
    "\n"
   ]
  },
  {
   "cell_type": "markdown",
   "metadata": {},
   "source": [
    "Como lo comentamos en la introducción el propósito de este curso es aprender a utilizar python con un enfoque hacia el tratamiento de datos. Esto no es mas que aplicar funciones sobre cierto conjuntos de datos a fin de poner obtener cierta información relevante."
   ]
  },
  {
   "cell_type": "markdown",
   "metadata": {},
   "source": []
  }
 ],
 "metadata": {
  "language_info": {
   "name": "python"
  }
 },
 "nbformat": 4,
 "nbformat_minor": 2
}
