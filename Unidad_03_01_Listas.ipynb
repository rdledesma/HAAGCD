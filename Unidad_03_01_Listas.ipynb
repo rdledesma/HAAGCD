{
 "cells": [
  {
   "cell_type": "markdown",
   "metadata": {},
   "source": [
    "# Unidad 3: Estructuras de Datos - Listas\n",
    "\n",
    "### Características de las Listas (list) en Python\n",
    "\n",
    "- Las listas son colecciones ordenadas y mutables.\n",
    "\n",
    "- Permiten almacenar cualquier tipo de datos, como enteros, cadenas, otros listas e incluso objetos.\n",
    "\n",
    "- Pueden contener elementos duplicados.\n",
    "\n",
    "- Son definidas usando corchetes [] o usando el constructor list()."
   ]
  },
  {
   "cell_type": "code",
   "execution_count": 1,
   "metadata": {},
   "outputs": [],
   "source": [
    "# Ejemplos de listas\n",
    "numeros = [1, 2, 3, 4, 5]\n",
    "nombres = [\"Ana\", \"Carlos\", \"Beatriz\"]\n",
    "mixta = [10, \"Hola\", 3.14, [1, 2, 3]]\n",
    "vacia = []"
   ]
  },
  {
   "cell_type": "markdown",
   "metadata": {},
   "source": [
    "### Operaciones Básicas con Listas\n",
    "\n",
    "Crear, Acceder, Modificar y Eliminar Elementos"
   ]
  },
  {
   "cell_type": "code",
   "execution_count": 9,
   "metadata": {},
   "outputs": [],
   "source": [
    "# Crear lista\n",
    "frutas = [\"manzana\", \"banana\", \"cereza\"]"
   ]
  },
  {
   "cell_type": "code",
   "execution_count": 10,
   "metadata": {},
   "outputs": [
    {
     "name": "stdout",
     "output_type": "stream",
     "text": [
      "manzana\n",
      "banana\n"
     ]
    }
   ],
   "source": [
    "\n",
    "# Acceder a elementos\n",
    "print(frutas[0])  # manzana\n",
    "print(frutas[-2])  # cereza\n"
   ]
  },
  {
   "cell_type": "code",
   "execution_count": 11,
   "metadata": {},
   "outputs": [
    {
     "name": "stdout",
     "output_type": "stream",
     "text": [
      "['manzana', 'pera', 'cereza']\n"
     ]
    }
   ],
   "source": [
    "# Modificar elementos\n",
    "frutas[1] = \"pera\"\n",
    "print(frutas)  # ['manzana', 'pera', 'cereza']"
   ]
  },
  {
   "cell_type": "code",
   "execution_count": 12,
   "metadata": {},
   "outputs": [
    {
     "name": "stdout",
     "output_type": "stream",
     "text": [
      "['manzana', 'cereza']\n"
     ]
    }
   ],
   "source": [
    "# Eliminar elementos\n",
    "frutas.remove(\"pera\")  # Elimina el primer elemento que coincide\n",
    "print(frutas)  # ['manzana', 'cereza']"
   ]
  },
  {
   "cell_type": "code",
   "execution_count": 13,
   "metadata": {},
   "outputs": [
    {
     "name": "stdout",
     "output_type": "stream",
     "text": [
      "manzana\n",
      "['cereza']\n",
      "['cereza', 'kiwi']\n",
      "['fresa', 'cereza', 'kiwi']\n",
      "['fresa', 'cereza', 'kiwi', 'mango', 'piña']\n"
     ]
    }
   ],
   "source": [
    "\n",
    "eliminado = frutas.pop(0)  # Elimina por índice\n",
    "print(eliminado)  # manzana\n",
    "print(frutas)  # ['cereza']\n",
    "\n",
    "# Añadir elementos\n",
    "frutas.append(\"kiwi\")  # Agregar al final\n",
    "print(frutas)  # ['cereza', 'kiwi']\n",
    "\n",
    "frutas.insert(0, \"fresa\")  # Insertar en posición específica\n",
    "print(frutas)  # ['fresa', 'cereza', 'kiwi']\n",
    "\n",
    "# Extender una lista\n",
    "frutas.extend([\"mango\", \"piña\"])\n",
    "print(frutas)  # ['fresa', 'cereza', 'kiwi', 'mango', 'piña']"
   ]
  },
  {
   "cell_type": "markdown",
   "metadata": {},
   "source": [
    "### Métodos comunes entre la listas numéricas"
   ]
  },
  {
   "cell_type": "code",
   "execution_count": 14,
   "metadata": {},
   "outputs": [
    {
     "name": "stdout",
     "output_type": "stream",
     "text": [
      "[1, 2, 3, 4, 5]\n",
      "[5, 4, 3, 2, 1]\n",
      "5\n",
      "1\n",
      "True\n"
     ]
    }
   ],
   "source": [
    "# Ordenar y revertir\n",
    "numeros = [3, 1, 4, 2, 5]\n",
    "numeros.sort()  # Orden ascendente\n",
    "print(numeros)  # [1, 2, 3, 4, 5]\n",
    "\n",
    "numeros.reverse()  # Invertir orden\n",
    "print(numeros)  # [5, 4, 3, 2, 1]\n",
    "\n",
    "# Otras operaciones\n",
    "print(len(numeros))  # Longitud de la lista (5)\n",
    "print(numeros.count(3))  # Cuenta apariciones de un elemento (1)\n",
    "print(3 in numeros)  # Verifica si 3 está en la lista (True)"
   ]
  },
  {
   "cell_type": "markdown",
   "metadata": {},
   "source": [
    "### Slicing y Comprensión de Listas\n",
    "\n",
    "Acceso por Índices y Sublistas"
   ]
  },
  {
   "cell_type": "code",
   "execution_count": 15,
   "metadata": {},
   "outputs": [
    {
     "name": "stdout",
     "output_type": "stream",
     "text": [
      "['b', 'c', 'd']\n",
      "['a', 'b', 'c']\n",
      "['d', 'e', 'f']\n",
      "['d', 'e', 'f']\n"
     ]
    }
   ],
   "source": [
    "letras = ['a', 'b', 'c', 'd', 'e', 'f']\n",
    "print(letras[1:4])  # ['b', 'c', 'd']\n",
    "print(letras[:3])  # ['a', 'b', 'c']\n",
    "print(letras[3:])  # ['d', 'e', 'f']\n",
    "print(letras[-3:])  # ['d', 'e', 'f']"
   ]
  },
  {
   "cell_type": "markdown",
   "metadata": {},
   "source": [
    "### Slicing y Comprensión de Listas\n",
    "\n",
    "Acceso por Índices y Sublistas"
   ]
  },
  {
   "cell_type": "code",
   "execution_count": 19,
   "metadata": {},
   "outputs": [
    {
     "name": "stdout",
     "output_type": "stream",
     "text": [
      "[1, 4, 9, 16, 25]\n",
      "[0, 2, 4, 6, 8]\n",
      "['ana', 'carlos', 'beatriz']\n"
     ]
    }
   ],
   "source": [
    "# Crear lista de cuadrados\n",
    "cuadrados = [x**2 for x in range(1, 6)]\n",
    "print(cuadrados)  # [1, 4, 9, 16, 25]\n",
    "\n",
    "# Filtrar elementos pares\n",
    "pares = [x for x in range(10) if x % 2 == 0]\n",
    "print(pares)  # [0, 2, 4, 6, 8]\n",
    "\n",
    "# Convertir a minúsculas\n",
    "nombres = [\"Ana\", \"Carlos\", \"BEATRIZ\"]\n",
    "nombres_min = [nombre.lower() for nombre in nombres]\n",
    "print(nombres_min)  # ['ana', 'carlos', 'beatriz']"
   ]
  },
  {
   "cell_type": "markdown",
   "metadata": {},
   "source": [
    "Crear una lista con los nombres de tus amigos y:\n",
    "\n",
    "- Añadir un nuevo amigo.\n",
    "\n",
    "- Eliminar un amigo específico.\n",
    "\n",
    "- Ordenar la lista alfabéticamente."
   ]
  },
  {
   "cell_type": "markdown",
   "metadata": {},
   "source": [
    "Crear una lista con los números del 1 al 10 y:\n",
    "\n",
    "- Obtener solo los números pares usando slicing.\n",
    "\n",
    "- Crear una nueva lista con los cuadrados de esos números usando comprensión de listas."
   ]
  },
  {
   "cell_type": "markdown",
   "metadata": {},
   "source": [
    "\n",
    "Crear una lista de palabras y contar cuántas tienen más de 4 letras."
   ]
  },
  {
   "cell_type": "markdown",
   "metadata": {},
   "source": [
    "Crear una lista que contenga las primeras 20 letras del alfabeto y:\n",
    "\n",
    "- Mostrar solo las primeras 5 letras.\n",
    "\n",
    "- Mostrar solo las últimas 5 letras.\n",
    "\n",
    "- Invertir el orden de la lista.\n"
   ]
  }
 ],
 "metadata": {
  "kernelspec": {
   "display_name": "geers-env",
   "language": "python",
   "name": "python3"
  },
  "language_info": {
   "codemirror_mode": {
    "name": "ipython",
    "version": 3
   },
   "file_extension": ".py",
   "mimetype": "text/x-python",
   "name": "python",
   "nbconvert_exporter": "python",
   "pygments_lexer": "ipython3",
   "version": "3.11.3"
  }
 },
 "nbformat": 4,
 "nbformat_minor": 2
}
