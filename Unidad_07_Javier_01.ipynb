{
 "cells": [
  {
   "cell_type": "markdown",
   "metadata": {},
   "source": [
    "# Unidad 7: Visualización de Datos con Python"
   ]
  },
  {
   "cell_type": "markdown",
   "metadata": {},
   "source": [
    "Hasta el momento vimos como recuperar la información almacenada en archivos tabulados.\n",
    "En esta unidad vamos a:\n",
    "\n",
    "Comprender los principios básicos de la visualización de datos.\n",
    "\n",
    "Aprender a usar las bibliotecas principales: Matplotlib, Seaborn y una introducción a Plotly.\n",
    "\n",
    "Crear visualizaciones efectivas para explorar y comunicar datos."
   ]
  },
  {
   "cell_type": "markdown",
   "metadata": {},
   "source": [
    "### 🎯 ¿Por qué es importante la visualización de datos?\n",
    "\n",
    "\"Una imagen vale más que mil filas de datos.\"\n",
    "\n",
    "Facilita la comprensión: Las visualizaciones permiten identificar patrones, tendencias y anomalías que serían difíciles de detectar en tablas numéricas.\n",
    "\n",
    "Comunicación efectiva: Transmiten hallazgos de forma clara y rápida a audiencias técnicas y no técnicas.\n",
    "\n",
    "Soporte para la toma de decisiones: En contextos empresariales, científicos o sociales, visualizar datos ayuda a fundamentar decisiones basadas en evidencia.\n",
    "\n",
    "Exploración durante el análisis: No solo es para el reporte final. Visualizar mientras se explora permite generar hipótesis, detectar errores y comprender la estructura de los datos.\n",
    "\n",
    "📌 Pregunta: ¿Es más claro ver 365 datos de temperatura en un Excel o en una curva de temperatura anual?"
   ]
  },
  {
   "cell_type": "markdown",
   "metadata": {},
   "source": [
    "| Tipo de gráfico      | Uso principal                                     | Ejemplo típico                        |\n",
    "| -------------------- | ------------------------------------------------- | ------------------------------------- |\n",
    "| 📈 **Línea**         | Evolución temporal                                | Temperatura diaria en un año          |\n",
    "| 📊 **Barras**        | Comparación entre categorías                      | Ventas por producto                   |\n",
    "| 🔵 **Dispersión**    | Relación entre dos variables numéricas            | Altura vs peso                        |\n",
    "| 🟦 **Histogramas**   | Distribución de una variable                      | Frecuencia de edades                  |\n",
    "| 📦 **Boxplots**      | Comparación de distribuciones                     | Salario por sector                    |\n",
    "| 🔥 **Mapa de calor** | Correlación entre variables, densidad en matrices | Correlación entre variables numéricas |\n"
   ]
  },
  {
   "cell_type": "markdown",
   "metadata": {},
   "source": [
    "✅ Principios de una Buena Visualización\n",
    "\n",
    "Claridad\n",
    "\n",
    "        El gráfico debe responder una pregunta concreta.\n",
    "\n",
    "        Evitar el \"ruido visual\" (colores innecesarios, elementos redundantes).\n",
    "\n",
    "        Usar títulos, ejes y leyendas bien etiquetadas.\n",
    "\n",
    "Precisión\n",
    "\n",
    "        No distorsionar los datos (ejes truncados sin aviso, 3D innecesario).\n",
    "\n",
    "        Proporcionalidad visual (el área de una barra debe reflejar su valor real).\n",
    "\n",
    "Estética\n",
    "\n",
    "        Diseño limpio y profesional.\n",
    "\n",
    "        Paleta de colores coherente (idealmente perceptualmente uniforme).\n",
    "\n",
    "        Tipografía legible y jerarquía visual clara.\n",
    "\n",
    "📌 Mal ejemplo: Gráfico 3D de pastel con etiquetas rotadas y sin leyenda.\n",
    "📌 Buen ejemplo: Gráfico de barras con colores planos, etiquetas claras, y valores exactos en las barras."
   ]
  },
  {
   "cell_type": "markdown",
   "metadata": {},
   "source": [
    "\"¿Qué historia me cuentan estos datos y cómo la puedo mostrar visualmente?\""
   ]
  },
  {
   "cell_type": "markdown",
   "metadata": {},
   "source": [
    "Fundamentals of Data Visualization – Claus O. Wilke (https://dokumen.pub/qdownload/fundamentals-of-data-visualization-a-primer-on-making-informative-and-compelling-figures-1nbsped-1492031089-9781492031086.html)\n"
   ]
  },
  {
   "cell_type": "markdown",
   "metadata": {},
   "source": [
    "Matplotlib User Guide (https://matplotlib.org/stable/users/index.html)"
   ]
  }
 ],
 "metadata": {
  "kernelspec": {
   "display_name": "geers-env",
   "language": "python",
   "name": "python3"
  },
  "language_info": {
   "codemirror_mode": {
    "name": "ipython",
    "version": 3
   },
   "file_extension": ".py",
   "mimetype": "text/x-python",
   "name": "python",
   "nbconvert_exporter": "python",
   "pygments_lexer": "ipython3",
   "version": "3.11.3"
  }
 },
 "nbformat": 4,
 "nbformat_minor": 2
}
