{
 "cells": [
  {
   "cell_type": "markdown",
   "metadata": {},
   "source": [
    "# Unidad 6: Introducción al aprendizaje automático\n",
    "\n",
    "\n",
    "Aunque Arthur Samuel no fue el primero en publicar un artículo que empleara el término \"aprendizaje automático\", se le atribuye la creación y definición de este concepto como el campo especializado que conocemos hoy. En su trabajo `Algunos estudios sobre aprendizaje automático usando el juego de damas', presentó el aprendizaje automático como una rama de la informática que permite a las computadoras mejorar su desempeño sin necesidad de ser programadas de forma explícita.\n",
    "\n",
    "Si bien la definición original de Samuel no lo menciona directamente, un aspecto fundamental del aprendizaje automático es el autoaprendizaje. Este concepto implica el uso de modelos estadísticos para identificar patrones y optimizar el rendimiento con base en datos e información empírica, sin requerir instrucciones de programación explícitas.\n",
    "\n",
    "La clasificación del aprendizaje automático (Machine Learning) se puede hacer desde varias perspectivas, pero generalmente se organiza en tres grandes tipos principales según la forma en que el modelo aprende de los datos:\n",
    "1. Aprendizaje supervisado\n",
    "2. Aprendizaje No supervisado\n",
    "3. Aprendizaje por Refuerzo\n",
    "\n",
    "## Aprendizaje supervisado\n",
    "    El modelo aprende a partir de un conjunto de datos etiquetado, es decir, los datos de entrada vienen con la respuesta correcta (la etiqueta o valor a predecir).\n",
    "\n",
    "## Aprendizaje No Supervisado\n",
    "    El modelo intenta encontrar estructuras  o patrones en datos sin etiquetar.\n",
    "\n",
    "## Aprendizaje por Refuerzo\n",
    "    El modelo (agente) aprende interactuando con un entorno, recibiendo recompensas o castigos según sus acciones.\n",
    "\n",
    "\n"
   ]
  }
 ],
 "metadata": {
  "language_info": {
   "name": "python"
  }
 },
 "nbformat": 4,
 "nbformat_minor": 2
}
