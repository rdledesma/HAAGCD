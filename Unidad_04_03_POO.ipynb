{
 "cells": [
  {
   "cell_type": "markdown",
   "metadata": {},
   "source": [
    "# Unidad 4: Profundizando en Clases y Objetos en Python\n",
    "\n",
    "En este apartado, exploraremos características más avanzadas de las clases y objetos en Python, incluyendo métodos especiales, herencia múltiple y patrones de diseño como mixins y composición."
   ]
  },
  {
   "cell_type": "markdown",
   "metadata": {},
   "source": [
    "## 1. Métodos Estáticos (@staticmethod) y Métodos de Clase (@classmethod)\n",
    "\n",
    "### Métodos Estáticos (@staticmethod)\n",
    "\n",
    "Un método estático pertenece a la clase en lugar de a una instancia específica. No puede acceder a los atributos de instancia (self) ni a los atributos de clase (cls). Son útiles para funciones que tienen lógica relacionada con la clase pero que no necesitan acceder a datos específicos de la instancia."
   ]
  },
  {
   "cell_type": "code",
   "execution_count": 1,
   "metadata": {},
   "outputs": [
    {
     "name": "stdout",
     "output_type": "stream",
     "text": [
      "8\n"
     ]
    }
   ],
   "source": [
    "class Matematica:\n",
    "    @staticmethod\n",
    "    def sumar(a, b):\n",
    "        return a + b\n",
    "\n",
    "resultado = Matematica.sumar(5, 3)\n",
    "print(resultado)  # Salida: 8"
   ]
  },
  {
   "cell_type": "markdown",
   "metadata": {},
   "source": [
    "### Métodos de Clase (@classmethod)\n",
    "\n",
    "Un método de clase recibe la clase como primer argumento en lugar de la instancia. Esto es útil para métodos que necesitan acceder a los atributos o métodos de la clase."
   ]
  },
  {
   "cell_type": "code",
   "execution_count": 2,
   "metadata": {},
   "outputs": [
    {
     "name": "stdout",
     "output_type": "stream",
     "text": [
      "Total de personas creadas: 2\n"
     ]
    }
   ],
   "source": [
    "class Persona:\n",
    "    contador = 0\n",
    "\n",
    "    def __init__(self, nombre):\n",
    "        self.nombre = nombre\n",
    "        Persona.contador += 1\n",
    "\n",
    "    @classmethod\n",
    "    def total_personas(cls):\n",
    "        return f\"Total de personas creadas: {cls.contador}\"\n",
    "\n",
    "p1 = Persona(\"Ana\")\n",
    "p2 = Persona(\"Luis\")\n",
    "print(Persona.total_personas())  # Salida: Total de personas creadas: 2"
   ]
  },
  {
   "cell_type": "markdown",
   "metadata": {},
   "source": [
    "## 2. Herencia Múltiple\n",
    "\n",
    "La herencia múltiple permite que una clase herede de más de una clase base. Esto puede ser muy poderoso pero también requiere cuidado para evitar conflictos de nombres y problemas de ambigüedad."
   ]
  },
  {
   "cell_type": "code",
   "execution_count": 3,
   "metadata": {},
   "outputs": [
    {
     "name": "stdout",
     "output_type": "stream",
     "text": [
      "Caminando\n",
      "Volando\n"
     ]
    }
   ],
   "source": [
    "class Mamifero:\n",
    "    def caminar(self):\n",
    "        return \"Caminando\"\n",
    "\n",
    "class Volador:\n",
    "    def volar(self):\n",
    "        return \"Volando\"\n",
    "\n",
    "class Murcielago(Mamifero, Volador):\n",
    "    pass\n",
    "\n",
    "bat = Murcielago()\n",
    "print(bat.caminar())  # Salida: Caminando\n",
    "print(bat.volar())    # Salida: Volando"
   ]
  },
  {
   "cell_type": "markdown",
   "metadata": {},
   "source": [
    "## 3. Sobrecarga de Operadores\n",
    "En Python, es posible redefinir cómo los operadores estándar funcionan para nuestras propias clases usando métodos especiales como __str__, __repr__, __add__, __eq__, entre otros."
   ]
  },
  {
   "cell_type": "code",
   "execution_count": 5,
   "metadata": {},
   "outputs": [
    {
     "name": "stdout",
     "output_type": "stream",
     "text": [
      "Vector(3, 7)\n",
      "Vector(x=3, y=7)\n"
     ]
    }
   ],
   "source": [
    "class Vector:\n",
    "    def __init__(self, x, y):\n",
    "        self.x = x\n",
    "        self.y = y\n",
    "    \n",
    "    def __add__(self, other):\n",
    "        return Vector(self.x + other.x, self.y + other.y)\n",
    "    \n",
    "    def __str__(self):\n",
    "        return f\"Vector({self.x}, {self.y})\"\n",
    "    \n",
    "    def __repr__(self):\n",
    "        return f\"Vector(x={self.x}, y={self.y})\"\n",
    "\n",
    "v1 = Vector(2, 3)\n",
    "v2 = Vector(1, 4)\n",
    "v3 = v1 + v2\n",
    "print(v3)        # Salida: Vector(3, 7)\n",
    "print(repr(v3))  # Salida: Vector(x=3, y=7)"
   ]
  },
  {
   "cell_type": "markdown",
   "metadata": {},
   "source": [
    "Esto facilita operaciones matemáticas y conversiones de nuestras clases a cadenas de texto para representación amigable y depuración."
   ]
  },
  {
   "cell_type": "markdown",
   "metadata": {},
   "source": [
    "## 4. Mixins y Composición\n",
    "\n",
    "### Mixins\n",
    "\n",
    "Los mixins son clases diseñadas para agregar funcionalidad específica sin ser la clase principal. Son muy útiles para compartir comportamientos entre múltiples clases sin necesidad de herencia directa.\n"
   ]
  },
  {
   "cell_type": "code",
   "execution_count": 6,
   "metadata": {},
   "outputs": [
    {
     "name": "stdout",
     "output_type": "stream",
     "text": [
      "[LOG]: Carlos ha iniciado sesión.\n"
     ]
    }
   ],
   "source": [
    "class Loggable:\n",
    "    def log(self, mensaje):\n",
    "        print(f\"[LOG]: {mensaje}\")\n",
    "\n",
    "class Usuario(Loggable):\n",
    "    def __init__(self, nombre):\n",
    "        self.nombre = nombre\n",
    "\n",
    "    def saludar(self):\n",
    "        self.log(f\"{self.nombre} ha iniciado sesión.\")\n",
    "\n",
    "user = Usuario(\"Carlos\")\n",
    "user.saludar()  # Salida: [LOG]: Carlos ha iniciado sesión."
   ]
  },
  {
   "cell_type": "markdown",
   "metadata": {},
   "source": [
    "### Composición\n",
    "La composición es una forma de crear clases complejas usando instancias de otras clases, promoviendo la reutilización y el diseño modular."
   ]
  },
  {
   "cell_type": "code",
   "execution_count": 7,
   "metadata": {},
   "outputs": [
    {
     "name": "stdout",
     "output_type": "stream",
     "text": [
      "Motor encendido\n"
     ]
    }
   ],
   "source": [
    "class Motor:\n",
    "    def encender(self):\n",
    "        return \"Motor encendido\"\n",
    "\n",
    "class Coche:\n",
    "    def __init__(self):\n",
    "        self.motor = Motor()\n",
    "    \n",
    "    def arrancar(self):\n",
    "        return self.motor.encender()\n",
    "\n",
    "mi_coche = Coche()\n",
    "print(mi_coche.arrancar())  # Salida: Motor encendido"
   ]
  },
  {
   "cell_type": "markdown",
   "metadata": {},
   "source": [
    "A diferencia de la herencia, la composición es más flexible y permite crear relaciones más desacopladas entre clases."
   ]
  }
 ],
 "metadata": {
  "kernelspec": {
   "display_name": "geers",
   "language": "python",
   "name": "python3"
  },
  "language_info": {
   "codemirror_mode": {
    "name": "ipython",
    "version": 3
   },
   "file_extension": ".py",
   "mimetype": "text/x-python",
   "name": "python",
   "nbconvert_exporter": "python",
   "pygments_lexer": "ipython3",
   "version": "3.12.3"
  }
 },
 "nbformat": 4,
 "nbformat_minor": 2
}
