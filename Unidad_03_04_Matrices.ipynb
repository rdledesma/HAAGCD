{
 "cells": [
  {
   "cell_type": "markdown",
   "metadata": {},
   "source": [
    "# Unidad 3: Estructuras de Datos - Matrices\n",
    "\n",
    "### Vectores y Matrices con numpy\n",
    "\n",
    "Características de numpy\n",
    "\n",
    "- numpy es una biblioteca fundamental para el cálculo numérico en Python.\n",
    "\n",
    "- Permite manejar datos numéricos en arreglos multidimensionales (vectores, matrices y tensores).\n",
    "\n",
    "- Ofrece operaciones matemáticas rápidas y eficientes gracias a su implementación en C y Fortran.\n",
    "\n",
    "- Ideal para análisis de datos, inteligencia artificial y procesamiento de señales."
   ]
  },
  {
   "cell_type": "code",
   "execution_count": 1,
   "metadata": {},
   "outputs": [],
   "source": [
    "# Importar la biblioteca\n",
    "import numpy as np"
   ]
  },
  {
   "cell_type": "code",
   "execution_count": 2,
   "metadata": {},
   "outputs": [],
   "source": [
    "# Crear vectores\n",
    "vector_a = np.array([1, 2, 3])  # Vector fila\n",
    "vector_b = np.array([[1], [2], [3]])  # Vector columna"
   ]
  },
  {
   "cell_type": "code",
   "execution_count": 3,
   "metadata": {},
   "outputs": [
    {
     "name": "stdout",
     "output_type": "stream",
     "text": [
      "[1 2 3]\n",
      "[[1]\n",
      " [2]\n",
      " [3]]\n"
     ]
    }
   ],
   "source": [
    "print(vector_a)  # [1 2 3]\n",
    "print(vector_b)  # [[1] [2] [3]]"
   ]
  },
  {
   "cell_type": "code",
   "execution_count": 4,
   "metadata": {},
   "outputs": [],
   "source": [
    "# Crear matrices\n",
    "matriz_2x2 = np.array([[1, 2], [3, 4]])\n",
    "matriz_3x3 = np.array([[1, 2, 3], [4, 5, 6], [7, 8, 9]])\n",
    "matriz_2x3 = np.array([[1, 2, 3], [7, 8, 9]])\n"
   ]
  },
  {
   "cell_type": "code",
   "execution_count": 6,
   "metadata": {},
   "outputs": [
    {
     "name": "stdout",
     "output_type": "stream",
     "text": [
      "[[1 2]\n",
      " [3 4]]\n"
     ]
    }
   ],
   "source": [
    "print(matriz_2x2)"
   ]
  },
  {
   "cell_type": "code",
   "execution_count": 7,
   "metadata": {},
   "outputs": [
    {
     "name": "stdout",
     "output_type": "stream",
     "text": [
      "[[1 2 3]\n",
      " [4 5 6]\n",
      " [7 8 9]]\n"
     ]
    }
   ],
   "source": [
    "print(matriz_3x3)"
   ]
  },
  {
   "cell_type": "code",
   "execution_count": null,
   "metadata": {},
   "outputs": [],
   "source": [
    "print(matriz_2x3)"
   ]
  },
  {
   "cell_type": "code",
   "execution_count": 9,
   "metadata": {},
   "outputs": [
    {
     "name": "stdout",
     "output_type": "stream",
     "text": [
      "[[0. 0. 0.]\n",
      " [0. 0. 0.]\n",
      " [0. 0. 0.]]\n",
      "[[1. 1. 1. 1.]\n",
      " [1. 1. 1. 1.]]\n",
      "[[1. 0. 0. 0.]\n",
      " [0. 1. 0. 0.]\n",
      " [0. 0. 1. 0.]\n",
      " [0. 0. 0. 1.]]\n"
     ]
    }
   ],
   "source": [
    "# Matrices con ceros y unos\n",
    "ceros = np.zeros((3, 3))\n",
    "unos = np.ones((2, 4))\n",
    "identidad = np.eye(4)  # Matriz identidad 4x4\n",
    "\n",
    "print(ceros)\n",
    "print(unos)\n",
    "print(identidad)"
   ]
  },
  {
   "cell_type": "markdown",
   "metadata": {},
   "source": [
    "### Indexación y Slicing Avanzado"
   ]
  },
  {
   "cell_type": "code",
   "execution_count": 10,
   "metadata": {},
   "outputs": [
    {
     "name": "stdout",
     "output_type": "stream",
     "text": [
      "1\n",
      "8\n",
      "[4 5 6]\n",
      "[2 5 8]\n",
      "[[1 2]\n",
      " [4 5]]\n",
      "[5 6 7 8 9]\n"
     ]
    }
   ],
   "source": [
    "# Matriz de ejemplo\n",
    "matriz = np.array([[1, 2, 3], [4, 5, 6], [7, 8, 9]])\n",
    "\n",
    "# Acceder a un elemento\n",
    "print(matriz[0, 0])  # 1\n",
    "print(matriz[2, 1])  # 8\n",
    "\n",
    "# Slicing de filas y columnas\n",
    "print(matriz[1, :])  # [4 5 6]\n",
    "print(matriz[:, 1])  # [2 5 8]\n",
    "print(matriz[0:2, 0:2])  # Submatriz 2x2\n",
    "\n",
    "# Filtrado de elementos\n",
    "print(matriz[matriz > 4])  # [5 6 7 8 9]"
   ]
  },
  {
   "cell_type": "code",
   "execution_count": 12,
   "metadata": {},
   "outputs": [
    {
     "name": "stdout",
     "output_type": "stream",
     "text": [
      "[5 7 9]\n",
      "[-3 -3 -3]\n"
     ]
    }
   ],
   "source": [
    "# Operaciones entre vectores y matrices\n",
    "vector_1 = np.array([1, 2, 3])\n",
    "vector_2 = np.array([4, 5, 6])\n",
    "\n",
    "# Suma y resta\n",
    "suma = vector_1 + vector_2\n",
    "resta = vector_1 - vector_2\n",
    "print(suma)  # [5 7 9]\n",
    "print(resta)  # [-3 -3 -3]"
   ]
  },
  {
   "cell_type": "code",
   "execution_count": null,
   "metadata": {},
   "outputs": [],
   "source": [
    "# Producto por escalar\n",
    "escalar = 3 * vector_1\n",
    "print(escalar)  # [3 6 9]"
   ]
  },
  {
   "cell_type": "code",
   "execution_count": 13,
   "metadata": {},
   "outputs": [
    {
     "name": "stdout",
     "output_type": "stream",
     "text": [
      "32\n"
     ]
    }
   ],
   "source": [
    "# Producto punto\n",
    "producto_punto = np.dot(vector_1, vector_2)\n",
    "print(producto_punto)  # 32"
   ]
  },
  {
   "cell_type": "code",
   "execution_count": 14,
   "metadata": {},
   "outputs": [],
   "source": [
    "# Producto de matrices\n",
    "matriz_a = np.array([[1, 2], [3, 4]])\n",
    "matriz_b = np.array([[2, 0], [1, 2]])"
   ]
  },
  {
   "cell_type": "code",
   "execution_count": null,
   "metadata": {},
   "outputs": [],
   "source": [
    "producto_matrices = np.dot(matriz_a, matriz_b)\n",
    "print(producto_matrices)\n",
    "# [[4 4]\n",
    "#  [10 8]]\n",
    "\n",
    "# Transposición de matrices\n",
    "print(matriz_a.T)\n",
    "# [[1 3]\n",
    "#  [2 4]]\n",
    "\n",
    "# Determinante y traza\n",
    "print(np.linalg.det(matriz_a))  # -2.0\n",
    "print(np.trace(matriz_a))  # 5"
   ]
  },
  {
   "cell_type": "markdown",
   "metadata": {},
   "source": [
    "### Ejercicios para Practicar\n",
    "\n",
    "Crear un vector de 10 elementos y:\n",
    "\n",
    "- Calcular la suma y el promedio de todos los elementos.\n",
    "\n",
    "- Obtener los elementos mayores a 5.\n",
    "\n",
    "- Multiplicar cada elemento por 2 y mostrar el resultado.\n",
    "\n",
    "Crear una matriz 3x3 y:\n",
    "\n",
    "- Calcular la suma de cada fila y cada columna.\n",
    "\n",
    "- Obtener la matriz transpuesta.\n",
    "\n",
    "- Calcular su determinante.\n",
    "\n",
    "Crear dos matrices de 2x2 y:\n",
    "\n",
    "- Calcular su producto (matricial y elemento a elemento).\n",
    "\n",
    "- Verificar si son iguales tras la transposición.\n",
    "\n",
    "Crear una matriz 4x4 con números aleatorios entre 0 y 100 y:\n",
    "\n",
    "- Obtener solo los elementos mayores a 50.\n",
    "\n",
    "- Reemplazar los elementos menores a 30 por 0.\n",
    "\n",
    "- Calcular la suma de la diagonal principal.\n",
    "\n",
    "Crear un vector de 100 elementos con valores aleatorios y:\n",
    "\n",
    "- Encontrar el máximo, mínimo y su posición.\n",
    "\n",
    "- Calcular la desviación estándar.\n",
    "\n",
    "- Ordenar los elementos en orden ascendente y descendente.\n",
    "\n",
    "Crear una matriz identidad de 5x5 y:\n",
    "\n",
    "- Multiplicarla por un escalar de tu elección.\n",
    "\n",
    "- Sumarle otra matriz de 5x5 con valores aleatorios.\n",
    "\n",
    "- Verificar si sigue siendo una matriz identidad después de estas operaciones."
   ]
  }
 ],
 "metadata": {
  "kernelspec": {
   "display_name": "geers-env",
   "language": "python",
   "name": "python3"
  },
  "language_info": {
   "codemirror_mode": {
    "name": "ipython",
    "version": 3
   },
   "file_extension": ".py",
   "mimetype": "text/x-python",
   "name": "python",
   "nbconvert_exporter": "python",
   "pygments_lexer": "ipython3",
   "version": "3.11.3"
  }
 },
 "nbformat": 4,
 "nbformat_minor": 2
}
