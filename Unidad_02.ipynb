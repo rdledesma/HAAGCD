{
 "cells": [
  {
   "cell_type": "markdown",
   "metadata": {},
   "source": [
    "# Unidad 2\n",
    "Bienvenido a la primera página.\n",
    "\n",
    "[Ir a Unidad 3](#Unidad_03)\n"
   ]
  }
 ],
 "metadata": {
  "language_info": {
   "name": "python"
  }
 },
 "nbformat": 4,
 "nbformat_minor": 2
}
