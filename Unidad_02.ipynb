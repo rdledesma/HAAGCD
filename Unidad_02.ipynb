{
 "cells": [
  {
   "cell_type": "markdown",
   "metadata": {},
   "source": [
    "# Unidad 2: Estructuras de control y Funciones\n",
    "\n",
    "En la clase anterior presentamos los distintos entornos para programar en Python, y también vimos cuáles son sus tipos de datos primitivos mas algunas operaciones sobre ellos. \n",
    "\n",
    "En este encuentro vamos a estudiar sobre las Estructuras de Control, como operan y para qué se utilizan. Además, vamos a definir y utilizar funciones en Python (parámetros, retorno, ámbito de variables).\n",
    "\n",
    "Introducir buenas prácticas como funciones puras y reutilización de código."
   ]
  },
  {
   "cell_type": "markdown",
   "metadata": {},
   "source": [
    "### Condicionales (if, elif, else)\n",
    "\n",
    "Las estructuras condicionales permiten que un programa tome decisiones basadas en condiciones específicas. Usando if, podemos evaluar una condición booleana, y en función de su resultado, ejecutar un bloque de código. Si la condición no se cumple, es posible usar elif (else if) para comprobar otras condiciones, y finalmente, si ninguna de las condiciones anteriores es verdadera, el bloque de código bajo else se ejecutará. Esta estructura es esencial para manejar diversas rutas de ejecución dentro de un programa, desde validaciones simples hasta la lógica más compleja de toma de decisiones. El uso eficiente de condicionales facilita la creación de programas dinámicos que pueden adaptarse a distintas situaciones."
   ]
  },
  {
   "cell_type": "code",
   "execution_count": 3,
   "metadata": {},
   "outputs": [
    {
     "name": "stdout",
     "output_type": "stream",
     "text": [
      "Usted es un niño.\n"
     ]
    }
   ],
   "source": [
    "edad = int(input(\"Ingrese su edad: \"))\n",
    "if edad >= 18:\n",
    "    print(\"Usted es mayor de edad.\")\n",
    "elif edad >= 13:\n",
    "    print(\"Usted es un adolescente.\")\n",
    "else:\n",
    "    print(\"Usted es un niño.\")\n"
   ]
  },
  {
   "cell_type": "markdown",
   "metadata": {},
   "source": [
    "### Bucles (for, while)\n",
    "\n",
    "Los bucles son estructuras de control que permiten ejecutar repetidamente un bloque de código mientras se cumpla una condición. El bucle for se utiliza principalmente cuando sabemos de antemano cuántas veces necesitamos iterar, como recorrer una lista o realizar un número determinado de repeticiones. Por otro lado, el bucle while ejecuta su bloque de código mientras una condición sea verdadera, y se detendrá una vez que la condición deje de cumplirse. Estas estructuras son fundamentales para automatizar tareas repetitivas, realizar iteraciones sobre colecciones de datos o hasta implementar algoritmos complejos que requieren de ciclos dinámicos. Además, su combinación con instrucciones como break (para salir del bucle) y continue (para saltar una iteración) otorgan un control preciso sobre el flujo de ejecución."
   ]
  },
  {
   "cell_type": "code",
   "execution_count": 4,
   "metadata": {},
   "outputs": [
    {
     "name": "stdout",
     "output_type": "stream",
     "text": [
      "La suma de los números del 1 al 10 es: 55\n"
     ]
    }
   ],
   "source": [
    "# Sumar los números del 1 al 10\n",
    "suma = 0\n",
    "for i in range(1, 11):\n",
    "    suma += i\n",
    "print(f\"La suma de los números del 1 al 10 es: {suma}\")"
   ]
  },
  {
   "cell_type": "code",
   "execution_count": 5,
   "metadata": {},
   "outputs": [
    {
     "name": "stdout",
     "output_type": "stream",
     "text": [
      "Intenta de nuevo.\n",
      "Intenta de nuevo.\n",
      "Intenta de nuevo.\n",
      "Intenta de nuevo.\n",
      "Intenta de nuevo.\n",
      "Intenta de nuevo.\n",
      "¡Felicidades! Adivinaste el número secreto.\n"
     ]
    }
   ],
   "source": [
    "# Pedir al usuario que adivine el número secreto\n",
    "numero_secreto = 7\n",
    "adivinanza = int(input(\"Adivina el número secreto entre 1 y 10: \"))\n",
    "while adivinanza != numero_secreto:\n",
    "    print(\"Intenta de nuevo.\")\n",
    "    adivinanza = int(input(\"Adivina el número secreto entre 1 y 10: \"))\n",
    "print(\"¡Felicidades! Adivinaste el número secreto.\")\n"
   ]
  },
  {
   "cell_type": "markdown",
   "metadata": {},
   "source": [
    "## Ejercicios Estructuras de control"
   ]
  },
  {
   "cell_type": "markdown",
   "metadata": {},
   "source": [
    "Clasificación de números: Solicita al usuario un número entero e imprime si es positivo, negativo o cero."
   ]
  },
  {
   "cell_type": "code",
   "execution_count": 7,
   "metadata": {},
   "outputs": [],
   "source": [
    "# Entrada: número entero\n",
    "# Salida: mensaje indicando si es positivo, negativo o cero"
   ]
  },
  {
   "cell_type": "markdown",
   "metadata": {},
   "source": [
    "Suma de pares: Pide un número n al usuario y calcula la suma de los primeros n números pares positivos (usando for o while)."
   ]
  },
  {
   "cell_type": "code",
   "execution_count": 6,
   "metadata": {},
   "outputs": [],
   "source": [
    "# Entrada: n (cantidad de pares)\n",
    "# Salida: suma total de los n pares positivos"
   ]
  },
  {
   "cell_type": "markdown",
   "metadata": {},
   "source": [
    "Menú interactivo: Diseña un menú que permita al usuario elegir entre varias opciones (por ejemplo, sumar, restar, salir). El menú debe repetirse hasta que el usuario elija salir."
   ]
  },
  {
   "cell_type": "code",
   "execution_count": 8,
   "metadata": {},
   "outputs": [],
   "source": [
    "# Opciones: 1) Sumar 2) Restar 3) Salir\n",
    "# El programa debe seguir mostrando el menú hasta que se elija la opción 3"
   ]
  },
  {
   "cell_type": "markdown",
   "metadata": {},
   "source": [
    "Número Primo: Escribe un programa que reciba un número y determine si es primo o no. Utiliza un bucle para verificar si tiene divisores distintos de 1 y de sí mismo."
   ]
  },
  {
   "cell_type": "code",
   "execution_count": 9,
   "metadata": {},
   "outputs": [],
   "source": [
    "# Entrada: número entero\n",
    "# Salida: mensaje que indique si es primo o no\n"
   ]
  },
  {
   "cell_type": "markdown",
   "metadata": {},
   "source": [
    "Contador de Vocales: Solicita una cadena al usuario y cuenta cuántas vocales contiene. Considera mayúsculas y minúsculas."
   ]
  },
  {
   "cell_type": "code",
   "execution_count": 10,
   "metadata": {},
   "outputs": [],
   "source": [
    "# Entrada: una cadena de texto\n",
    "# Salida: número de vocales (a, e, i, o, u)"
   ]
  },
  {
   "cell_type": "markdown",
   "metadata": {},
   "source": [
    "## Funciones\n",
    "\n",
    "Las funciones en Python son bloques reutilizables de código que permiten encapsular lógica, mejorar la legibilidad y facilitar el mantenimiento de programas. A través de las funciones, podemos dividir un problema complejo en subproblemas más simples, promover la reutilización y evitar la duplicación de código. Python permite definir funciones con parámetros, valores por defecto y retorno de resultados, lo que brinda gran versatilidad. Además, comprender el alcance de las variables y la importancia de las funciones puras fomenta el desarrollo de código más robusto y predecible, alineado con buenas prácticas de programación."
   ]
  },
  {
   "cell_type": "markdown",
   "metadata": {},
   "source": [
    "El propósito de usar funciones se basa en organizar el código de forma modular, clara y reutilizable. En lugar de repetir fragmentos de código, las funciones encapsulan lógica específica que puede ser llamada múltiples veces desde distintos lugares. Esto no solo reduce errores, sino que mejora el mantenimiento y la escalabilidad del programa. Al dividir un problema en funciones pequeñas, podemos centrarnos en resolver subproblemas concretos, facilitando la depuración y la colaboración en proyectos más grandes. En el desarrollo profesional y científico, el uso disciplinado de funciones es una señal de código limpio y bien estructurado."
   ]
  },
  {
   "cell_type": "markdown",
   "metadata": {},
   "source": [
    "🧱 Forma general de una función en Python\n",
    "\n",
    "La forma más básica para definir una función en Python es:"
   ]
  },
  {
   "cell_type": "code",
   "execution_count": 11,
   "metadata": {},
   "outputs": [],
   "source": [
    "def nombre_funcion(parámetros):\n",
    "    \"\"\"Docstring opcional: describe qué hace la función.\"\"\"\n",
    "    # cuerpo de la función\n",
    "    return resultado"
   ]
  },
  {
   "cell_type": "code",
   "execution_count": 12,
   "metadata": {},
   "outputs": [],
   "source": [
    "def saludar(nombre):\n",
    "    return f\"Hola, {nombre}!\"\n"
   ]
  },
  {
   "cell_type": "markdown",
   "metadata": {},
   "source": [
    "Se pueden definir funciones con ningún parámetro, con uno o varios parámetros, e incluso con valores por defecto. Además, pueden o no devolver un resultado (return), dependiendo de si se necesita usar ese valor después."
   ]
  },
  {
   "cell_type": "markdown",
   "metadata": {},
   "source": [
    "### Uso de parámetros\n",
    "Los parámetros permiten que una función reciba información externa para operar sobre ella. "
   ]
  },
  {
   "cell_type": "code",
   "execution_count": 14,
   "metadata": {},
   "outputs": [
    {
     "name": "stdout",
     "output_type": "stream",
     "text": [
      "25\n"
     ]
    }
   ],
   "source": [
    "def cuadrado(x):\n",
    "    return x ** 2\n",
    "\n",
    "print(cuadrado(5))"
   ]
  },
  {
   "cell_type": "code",
   "execution_count": 15,
   "metadata": {},
   "outputs": [
    {
     "name": "stdout",
     "output_type": "stream",
     "text": [
      "7\n"
     ]
    }
   ],
   "source": [
    "def sumar(a, b):\n",
    "    return a + b\n",
    "\n",
    "print(sumar(3, 4))"
   ]
  },
  {
   "cell_type": "code",
   "execution_count": 18,
   "metadata": {},
   "outputs": [
    {
     "name": "stdout",
     "output_type": "stream",
     "text": [
      "Hola, Mundo!\n",
      "Hola, Python!\n"
     ]
    }
   ],
   "source": [
    "# Parámetros con valores por defecto\n",
    "\n",
    "def saludar(nombre=\"Mundo\"):\n",
    "    return f\"Hola, {nombre}!\"\n",
    "\n",
    "print(saludar())         \n",
    "print(saludar(\"Python\"))   "
   ]
  },
  {
   "cell_type": "code",
   "execution_count": 19,
   "metadata": {},
   "outputs": [
    {
     "name": "stdout",
     "output_type": "stream",
     "text": [
      "Hola Hola Hola \n"
     ]
    }
   ],
   "source": [
    "#Función que recibe texto y número\n",
    "def repetir_texto(texto, veces):\n",
    "    return texto * veces\n",
    "\n",
    "print(repetir_texto(\"Hola \", 3))  # Output: Hola Hola Hola "
   ]
  },
  {
   "cell_type": "code",
   "execution_count": 20,
   "metadata": {},
   "outputs": [
    {
     "name": "stdout",
     "output_type": "stream",
     "text": [
      "Ana tiene 30 años y está activo.\n",
      "Luis tiene 45 años y está inactivo.\n"
     ]
    }
   ],
   "source": [
    "def imprimir_info(nombre, edad, activo=True):\n",
    "    estado = \"activo\" if activo else \"inactivo\"\n",
    "    print(f\"{nombre} tiene {edad} años y está {estado}.\")\n",
    "\n",
    "imprimir_info(\"Ana\", 30) \n",
    "imprimir_info(\"Luis\", 45, False)  "
   ]
  },
  {
   "cell_type": "markdown",
   "metadata": {},
   "source": [
    "⚠️ Variables locales vs. globales\n",
    "\n",
    "Una variable local es aquella definida dentro de una función: solo existe durante la ejecución de esa función. En cambio, una variable global se define fuera de cualquier función y puede ser accedida desde varias partes del código."
   ]
  },
  {
   "cell_type": "code",
   "execution_count": 23,
   "metadata": {},
   "outputs": [
    {
     "name": "stdout",
     "output_type": "stream",
     "text": [
      "25.0\n"
     ]
    }
   ],
   "source": [
    "def calcular_area(base, altura):\n",
    "    area = base * altura / 2\n",
    "    return area\n",
    "\n",
    "print(calcular_area(10, 5))"
   ]
  },
  {
   "cell_type": "markdown",
   "metadata": {},
   "source": [
    "Usar variables globales puede llevar a errores difíciles de depurar, especialmente en programas grandes. "
   ]
  },
  {
   "cell_type": "code",
   "execution_count": 24,
   "metadata": {},
   "outputs": [
    {
     "ename": "UnboundLocalError",
     "evalue": "cannot access local variable 'contador' where it is not associated with a value",
     "output_type": "error",
     "traceback": [
      "\u001b[0;31m---------------------------------------------------------------------------\u001b[0m",
      "\u001b[0;31mUnboundLocalError\u001b[0m                         Traceback (most recent call last)",
      "Cell \u001b[0;32mIn[24], line 6\u001b[0m\n\u001b[1;32m      3\u001b[0m \u001b[38;5;28;01mdef\u001b[39;00m \u001b[38;5;21mincrementar\u001b[39m():\n\u001b[1;32m      4\u001b[0m     contador \u001b[38;5;241m+\u001b[39m\u001b[38;5;241m=\u001b[39m \u001b[38;5;241m1\u001b[39m  \u001b[38;5;66;03m# Error: UnboundLocalError\u001b[39;00m\n\u001b[0;32m----> 6\u001b[0m \u001b[43mincrementar\u001b[49m\u001b[43m(\u001b[49m\u001b[43m)\u001b[49m\n",
      "Cell \u001b[0;32mIn[24], line 4\u001b[0m, in \u001b[0;36mincrementar\u001b[0;34m()\u001b[0m\n\u001b[1;32m      3\u001b[0m \u001b[38;5;28;01mdef\u001b[39;00m \u001b[38;5;21mincrementar\u001b[39m():\n\u001b[0;32m----> 4\u001b[0m     \u001b[43mcontador\u001b[49m \u001b[38;5;241m+\u001b[39m\u001b[38;5;241m=\u001b[39m \u001b[38;5;241m1\u001b[39m\n",
      "\u001b[0;31mUnboundLocalError\u001b[0m: cannot access local variable 'contador' where it is not associated with a value"
     ]
    }
   ],
   "source": [
    "contador = 0\n",
    "\n",
    "def incrementar():\n",
    "    contador += 1 \n",
    "\n",
    "incrementar()"
   ]
  },
  {
   "cell_type": "code",
   "execution_count": 25,
   "metadata": {},
   "outputs": [
    {
     "name": "stdout",
     "output_type": "stream",
     "text": [
      "1\n"
     ]
    }
   ],
   "source": [
    "contador = 0\n",
    "\n",
    "def incrementar():\n",
    "    global contador\n",
    "    contador += 1\n",
    "\n",
    "incrementar()\n",
    "print(contador) "
   ]
  },
  {
   "cell_type": "markdown",
   "metadata": {},
   "source": [
    "⚠️ Modificar variables globales desde funciones es una mala práctica, porque genera dependencias ocultas y complica el seguimiento del flujo de datos."
   ]
  },
  {
   "cell_type": "markdown",
   "metadata": {},
   "source": [
    "## Decoradores\n",
    "Un decorador es una función que recibe otra función como argumento y retorna una nueva función con funcionalidad extendida, sin modificar el código original. Se usan comúnmente para añadir lógica adicional como validación, registro (logging), verificación de permisos, etc."
   ]
  },
  {
   "cell_type": "code",
   "execution_count": 27,
   "metadata": {},
   "outputs": [
    {
     "name": "stdout",
     "output_type": "stream",
     "text": [
      "Antes de la función\n",
      "Hola mundo\n",
      "Después de la función\n"
     ]
    }
   ],
   "source": [
    "def decorador(func):\n",
    "    def nueva_funcion():\n",
    "        print(\"Antes de la función\")\n",
    "        func()\n",
    "        print(\"Después de la función\")\n",
    "    return nueva_funcion\n",
    "\n",
    "@decorador\n",
    "def saludar():\n",
    "    print(\"Hola mundo\")\n",
    "\n",
    "saludar()"
   ]
  },
  {
   "cell_type": "markdown",
   "metadata": {},
   "source": [
    "🌟 *args y **kwargs – Parámetros avanzados"
   ]
  },
  {
   "cell_type": "markdown",
   "metadata": {},
   "source": [
    "Estos dos mecanismos permiten que una función reciba un número variable de argumentos:"
   ]
  },
  {
   "cell_type": "markdown",
   "metadata": {},
   "source": [
    "*args (Argumentos posicionales variables)"
   ]
  },
  {
   "cell_type": "code",
   "execution_count": 30,
   "metadata": {},
   "outputs": [
    {
     "name": "stdout",
     "output_type": "stream",
     "text": [
      "6\n",
      "50\n"
     ]
    }
   ],
   "source": [
    "def sumar_todo(*args):\n",
    "    return sum(args)\n",
    "\n",
    "print(sumar_todo(1, 2, 3))       \n",
    "print(sumar_todo(5, 10, 15, 20))\n",
    "\n",
    "# args es una tupla que contiene todos los argumentos."
   ]
  },
  {
   "cell_type": "markdown",
   "metadata": {},
   "source": [
    "🔹 **kwargs (Argumentos con nombre variables)\n",
    "\n",
    "Permite pasar una cantidad indefinida de argumentos con nombre (clave=valor):"
   ]
  },
  {
   "cell_type": "code",
   "execution_count": 31,
   "metadata": {},
   "outputs": [
    {
     "name": "stdout",
     "output_type": "stream",
     "text": [
      "nombre: Ana\n",
      "edad: 30\n",
      "ciudad: Madrid\n"
     ]
    }
   ],
   "source": [
    "def imprimir_info(**kwargs):\n",
    "    for clave, valor in kwargs.items():\n",
    "        print(f\"{clave}: {valor}\")\n",
    "\n",
    "imprimir_info(nombre=\"Ana\", edad=30, ciudad=\"Madrid\")\n"
   ]
  }
 ],
 "metadata": {
  "kernelspec": {
   "display_name": "geers",
   "language": "python",
   "name": "python3"
  },
  "language_info": {
   "codemirror_mode": {
    "name": "ipython",
    "version": 3
   },
   "file_extension": ".py",
   "mimetype": "text/x-python",
   "name": "python",
   "nbconvert_exporter": "python",
   "pygments_lexer": "ipython3",
   "version": "3.12.3"
  }
 },
 "nbformat": 4,
 "nbformat_minor": 2
}
